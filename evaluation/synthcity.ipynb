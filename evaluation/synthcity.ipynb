{
 "cells": [
  {
   "cell_type": "code",
   "execution_count": null,
   "id": "initial_id",
   "metadata": {
    "collapsed": true,
    "is_executing": true
   },
   "outputs": [],
   "source": [
    "import pandas as pd\n",
    "from sklearn.preprocessing import OneHotEncoder\n",
    "from synthcity.metrics import eval_statistical\n",
    "from synthcity.plugins.core.dataloader import GenericDataLoader\n",
    "\n",
    "# Load your real data\n",
    "real_data = pd.read_csv(\"/Users/minhkau/Documents/TUDelft/Year 3/RP/Code/tabular-gpt/be_greater/datasets/adult.csv\")\n",
    "syn_data = pd.read_csv(\"/Users/minhkau/Documents/TUDelft/Year 3/RP/Code/tabular-gpt/be_greater/results/adult.structured.csv\")\n",
    "\n",
    "# Define categorical columns\n",
    "categorical_cols = ['workclass', 'education', 'marital-status', 'occupation', 'relationship', 'race', 'sex', 'native-country', 'class']\n",
    "\n",
    "# Combine real and synthetic data for consistent encoding\n",
    "combined_data = pd.concat([real_data, syn_data])\n",
    "\n",
    "# Apply OneHotEncoder to categorical columns\n",
    "encoder = OneHotEncoder(drop='first', sparse=False)  # Use drop='first' to avoid dummy variable trap\n",
    "encoded_data = encoder.fit_transform(combined_data[categorical_cols])\n",
    "\n",
    "# Create a DataFrame with the encoded data\n",
    "encoded_df = pd.DataFrame(encoded_data, columns=encoder.get_feature_names_out(categorical_cols))\n",
    "\n",
    "# Replace categorical columns with encoded columns in both datasets\n",
    "real_data_encoded = pd.concat([real_data.drop(columns=categorical_cols), encoded_df.iloc[:len(real_data)]], axis=1)\n",
    "syn_data_encoded = pd.concat([syn_data.drop(columns=categorical_cols), encoded_df.iloc[len(real_data):].reset_index(drop=True)], axis=1)\n",
    "\n",
    "# Initialize data loaders\n",
    "real_loader = GenericDataLoader(real_data_encoded)\n",
    "syn_loader = GenericDataLoader(syn_data_encoded)\n",
    "\n",
    "# Initialize quality evaluatori\n",
    "quality_evaluator = eval_statistical.AlphaPrecision()\n",
    "\n",
    "# Evaluate the quality\n",
    "qual_res = quality_evaluator.evaluate(real_loader, syn_loader)\n",
    "\n",
    "# Print evaluation results\n",
    "print(\"Evaluation Results:\")\n",
    "print(qual_res)\n",
    "\n",
    "# from synthcity.metrics.eval import "
   ]
  },
  {
   "cell_type": "code",
   "outputs": [
    {
     "name": "stdout",
     "output_type": "stream",
     "text": [
      "[KeOps] Warning : omp.h header is not in the path, disabling OpenMP. To fix this, you can set the environment\n",
      "                  variable OMP_PATH to the location of the header before importing keopscore or pykeops,\n",
      "                  e.g. using os.environ: import os; os.environ['OMP_PATH'] = '/path/to/omp/header'\n",
      "[KeOps] Warning : Cuda libraries were not detected on the system or could not be loaded ; using cpu only mode\n",
      "[pyKeOps] Compiling pykeops cpp 1cd5fad4ed module ... \n",
      "[KeOps] Warning : There were warnings or errors :\n",
      "/bin/sh: /Users/minhkau/Documents/TUDelft/Year: No such file or directory\n",
      "clang: error: no such file or directory: '3/RP/Code/tabular-gpt/.venv/lib/python3.10/site-packages/keopscore'\n",
      "\n",
      "OK\n"
     ]
    }
   ],
   "source": [
    "from synthcity.metrics.eval import Metrics\n",
    "import pandas as pd\n",
    "\n",
    "real_data = pd.read_csv(\"/Users/minhkau/Documents/TUDelft/Year 3/RP/Code/tabular-gpt/be_greater/datasets/adult.csv\")\n",
    "syn_data = pd.read_csv(\"/Users/minhkau/Documents/TUDelft/Year 3/RP/Code/tabular-gpt/be_greater/adult_samples_42k.csv\")\n",
    "\n",
    "sampled_real_data_df = real_data.sample(n=20000, random_state=42)  # Adjust random_state as desired for reproducibility\n",
    "sampled_syn_data_df = syn_data.sample(n=20000, random_state=42)\n",
    "\n",
    "synthcity_result = Metrics.evaluate(sampled_real_data_df, sampled_syn_data_df)\n",
    "synthcity_result.to_csv(\"synthcity_result_20k.csv\")"
   ],
   "metadata": {
    "collapsed": false,
    "ExecuteTime": {
     "end_time": "2024-05-05T15:29:29.348705Z",
     "start_time": "2024-05-05T15:27:32.871949Z"
    }
   },
   "id": "442481076973bb69",
   "execution_count": 9
  },
  {
   "cell_type": "code",
   "outputs": [
    {
     "name": "stdout",
     "output_type": "stream",
     "text": [
      "[pyKeOps] Compiling pykeops cpp 1cd5fad4ed module ... \n",
      "[KeOps] Warning : There were warnings or errors :\n",
      "/bin/sh: /Users/minhkau/Documents/TUDelft/Year: No such file or directory\n",
      "clang: error: no such file or directory: '3/RP/Code/tabular-gpt/.venv/lib/python3.10/site-packages/keopscore'\n",
      "\n",
      "OK\n"
     ]
    }
   ],
   "source": [
    "from synthcity.metrics.eval import Metrics\n",
    "import pandas as pd\n",
    "\n",
    "real_data = pd.read_csv(\"/Users/minhkau/Documents/TUDelft/Year 3/RP/Code/tabular-gpt/be_greater/datasets/adult.csv\")\n",
    "syn_data = pd.read_csv(\"/Users/minhkau/Documents/TUDelft/Year 3/RP/Code/tabular-gpt/be_greater/adult_samples_42k.csv\")\n",
    "\n",
    "sampled_real_data_df = real_data.sample(n=20000, random_state=42)  # Adjust random_state as desired for reproducibility\n",
    "sampled_syn_data_df = syn_data.sample(n=20000, random_state=42)\n",
    "\n",
    "synthcity_result = Metrics.evaluate(sampled_real_data_df, sampled_real_data_df)\n",
    "synthcity_result.to_csv(\"real_data_result_20k.csv\")"
   ],
   "metadata": {
    "collapsed": false,
    "ExecuteTime": {
     "end_time": "2024-05-06T08:59:47.389795Z",
     "start_time": "2024-05-06T08:58:00.538337Z"
    }
   },
   "id": "29d49f72ce06d2ae",
   "execution_count": 14
  },
  {
   "cell_type": "code",
   "outputs": [],
   "source": [
    "real_data = pd.read_csv(\"/Users/minhkau/Documents/TUDelft/Year 3/RP/Code/tabular-gpt/be_greater/datasets/adult.csv\")\n",
    "syn_data = pd.read_csv(\"/Users/minhkau/Documents/TUDelft/Year 3/RP/Code/tabular-gpt/be_greater/adult_samples_42k.csv\")\n",
    "\n",
    "sampled_real_data_df = real_data.sample(n=20000, random_state=42)  # Adjust random_state as desired for reproducibility\n",
    "sampled_syn_data_df = syn_data.sample(n=20000, random_state=42)\n",
    "\n",
    "sampled_real_data_df.to_csv(\"adult_real_20k.csv\")\n",
    "sampled_syn_data_df.to_csv(\"adult_samples_20k.csv\")\n"
   ],
   "metadata": {
    "collapsed": false,
    "ExecuteTime": {
     "end_time": "2024-05-05T15:29:29.582210Z",
     "start_time": "2024-05-05T15:29:29.358600Z"
    }
   },
   "id": "f6fd1e4f9a289ded",
   "execution_count": 10
  },
  {
   "cell_type": "code",
   "outputs": [
    {
     "name": "stdout",
     "output_type": "stream",
     "text": [
      "                                       Unnamed: 0   min direction\n",
      "0                      sanity.data_mismatch.score  0.12  minimize\n",
      "1             sanity.common_rows_proportion.score  0.00  minimize\n",
      "2       sanity.nearest_syn_neighbor_distance.mean  0.00  minimize\n",
      "3           sanity.close_values_probability.score  1.00  maximize\n",
      "4         sanity.distant_values_probability.score  0.00  minimize\n",
      "5               stats.jensenshannon_dist.marginal  0.02  minimize\n",
      "6                 stats.chi_squared_test.marginal  0.79  maximize\n",
      "7                stats.inv_kl_divergence.marginal  0.85  maximize\n",
      "8                          stats.ks_test.marginal  0.87  maximize\n",
      "9                stats.max_mean_discrepancy.joint  0.00  minimize\n",
      "10                           stats.prdc.precision  0.99  maximize\n",
      "11                              stats.prdc.recall  0.82  maximize\n",
      "12                             stats.prdc.density  0.96  maximize\n",
      "13                            stats.prdc.coverage  0.73  maximize\n",
      "14                    performance.linear_model.gt  0.80  maximize\n",
      "15                performance.linear_model.syn_id  0.80  maximize\n",
      "16               performance.linear_model.syn_ood  0.80  maximize\n",
      "17                             performance.mlp.gt  0.00  maximize\n",
      "18                         performance.mlp.syn_id  0.00  maximize\n",
      "19                        performance.mlp.syn_ood  0.00  maximize\n",
      "20                             performance.xgb.gt  0.90  maximize\n",
      "21                         performance.xgb.syn_id  0.89  maximize\n",
      "22                        performance.xgb.syn_ood  0.89  maximize\n",
      "23       performance.linear_model_augmentation.gt  0.80  maximize\n",
      "24  performance.linear_model_augmentation.aug_ood  0.80  maximize\n",
      "25                performance.mlp_augmentation.gt  0.00  maximize\n",
      "26           performance.mlp_augmentation.aug_ood  0.00  maximize\n",
      "27                performance.xgb_augmentation.gt  0.90  maximize\n",
      "28           performance.xgb_augmentation.aug_ood  0.89  maximize\n",
      "29            performance.feat_rank_distance.corr  0.59  minimize\n",
      "30          performance.feat_rank_distance.pvalue  0.00  minimize\n",
      "31                   detection.detection_xgb.mean  1.00  minimize\n",
      "32                   detection.detection_gmm.mean  0.47  minimize\n",
      "33                detection.detection_linear.mean  0.93  minimize\n",
      "34                   privacy.delta-presence.score  4.00  maximize\n",
      "35                     privacy.k-anonymization.gt  8.00  maximize\n",
      "36                    privacy.k-anonymization.syn  3.00  maximize\n",
      "37                            privacy.k-map.score  2.00  maximize\n",
      "38                privacy.distinct l-diversity.gt  8.00  maximize\n",
      "39               privacy.distinct l-diversity.syn  3.00  maximize\n"
     ]
    }
   ],
   "source": [
    "import pandas as pd\n",
    "synthcity_result = pd.read_csv(\"synthcity_result_20k.csv\")[['Unnamed: 0', 'min', 'direction']]\n",
    "synthcity_result[\"min\"] = synthcity_result['min'].round(2)\n",
    "\n",
    "print(synthcity_result)"
   ],
   "metadata": {
    "collapsed": false,
    "ExecuteTime": {
     "end_time": "2024-05-05T15:53:15.382981Z",
     "start_time": "2024-05-05T15:53:15.370601Z"
    }
   },
   "id": "ad01a6b11a7b9396",
   "execution_count": 13
  }
 ],
 "metadata": {
  "kernelspec": {
   "display_name": "Python 3",
   "language": "python",
   "name": "python3"
  },
  "language_info": {
   "codemirror_mode": {
    "name": "ipython",
    "version": 2
   },
   "file_extension": ".py",
   "mimetype": "text/x-python",
   "name": "python",
   "nbconvert_exporter": "python",
   "pygments_lexer": "ipython2",
   "version": "2.7.6"
  }
 },
 "nbformat": 4,
 "nbformat_minor": 5
}
