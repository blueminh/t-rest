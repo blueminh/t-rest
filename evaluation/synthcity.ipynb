{
 "cells": [
  {
   "cell_type": "code",
   "outputs": [
    {
     "data": {
      "text/plain": "                                                   Real Data  No-Watermark  \\\nsanity.data_mismatch.score                              0.00          0.00   \nsanity.common_rows_proportion.score                     1.00          0.00   \nsanity.nearest_syn_neighbor_distance.mean               0.00          0.04   \nsanity.close_values_probability.score                   1.00          0.96   \nsanity.distant_values_probability.score                 0.00          0.01   \nstats.jensenshannon_dist.marginal                       0.00          0.02   \nstats.chi_squared_test.marginal                         1.00          0.11   \nstats.inv_kl_divergence.marginal                        1.00          0.54   \nstats.ks_test.marginal                                  1.00          0.86   \nstats.max_mean_discrepancy.joint                        0.00          0.02   \nstats.wasserstein_dist.joint                            0.00          0.10   \nstats.prdc.precision                                    1.00          1.00   \nstats.prdc.recall                                       1.00          0.97   \nstats.prdc.density                                      1.00          1.03   \nstats.prdc.coverage                                     1.00          0.83   \nstats.alpha_precision.delta_precision_alpha_OC          0.99          0.94   \nstats.alpha_precision.delta_coverage_beta_OC            0.99          0.46   \nstats.alpha_precision.authenticity_OC                   0.00          0.55   \nstats.alpha_precision.delta_precision_alpha_naive       0.99          0.76   \nstats.alpha_precision.delta_coverage_beta_naive         0.99          0.27   \nstats.alpha_precision.authenticity_naive                0.00          0.63   \nperformance.linear_model.gt                             0.66          0.66   \nperformance.linear_model.syn_id                         0.72          0.39   \nperformance.linear_model.syn_ood                        0.67         -0.33   \nperformance.mlp.gt                                     -2.43         -2.43   \nperformance.mlp.syn_id                                 -6.08         -2.65   \nperformance.mlp.syn_ood                                -3.39         -2.68   \nperformance.xgb.gt                                      0.46          0.46   \nperformance.xgb.syn_id                                  1.00          0.12   \nperformance.xgb.syn_ood                                 1.00         -0.71   \nperformance.linear_model_augmentation.gt                0.66          0.66   \nperformance.linear_model_augmentation.aug_ood           0.67         -0.33   \nperformance.mlp_augmentation.gt                        -2.43         -2.43   \nperformance.mlp_augmentation.aug_ood                   -3.39         -2.68   \nperformance.xgb_augmentation.gt                         0.46          0.46   \nperformance.xgb_augmentation.aug_ood                    1.00         -0.71   \ndetection.detection_xgb.mean                            0.06          0.79   \ndetection.detection_mlp.mean                            0.50          0.50   \ndetection.detection_gmm.mean                            0.51          0.59   \ndetection.detection_linear.mean                         0.37          0.58   \nprivacy.delta-presence.score                            1.00          6.50   \nprivacy.k-anonymization.gt                              1.00          1.00   \nprivacy.k-anonymization.syn                             1.00          1.00   \nprivacy.k-map.score                                     1.00          2.00   \nprivacy.distinct l-diversity.gt                         1.00          1.00   \nprivacy.distinct l-diversity.syn                        1.00          1.00   \nprivacy.identifiability_score.score                     1.00          0.39   \nprivacy.identifiability_score.score_OC                  1.00          0.44   \n\n                                                   With-Watermark Direction  \nsanity.data_mismatch.score                                   0.00  minimize  \nsanity.common_rows_proportion.score                          0.00  minimize  \nsanity.nearest_syn_neighbor_distance.mean                    0.05  minimize  \nsanity.close_values_probability.score                        0.96  maximize  \nsanity.distant_values_probability.score                      0.01  minimize  \nstats.jensenshannon_dist.marginal                            0.03  minimize  \nstats.chi_squared_test.marginal                              0.22  maximize  \nstats.inv_kl_divergence.marginal                             0.57  maximize  \nstats.ks_test.marginal                                       0.72  maximize  \nstats.max_mean_discrepancy.joint                             0.02  minimize  \nstats.wasserstein_dist.joint                                 0.15  minimize  \nstats.prdc.precision                                         1.00  maximize  \nstats.prdc.recall                                            0.88  maximize  \nstats.prdc.density                                           0.94  maximize  \nstats.prdc.coverage                                          0.75  maximize  \nstats.alpha_precision.delta_precision_alpha_OC               0.93  maximize  \nstats.alpha_precision.delta_coverage_beta_OC                 0.43  maximize  \nstats.alpha_precision.authenticity_OC                        0.52  maximize  \nstats.alpha_precision.delta_precision_alpha_naive            0.77  maximize  \nstats.alpha_precision.delta_coverage_beta_naive              0.23  maximize  \nstats.alpha_precision.authenticity_naive                     0.69  maximize  \nperformance.linear_model.gt                                  0.66  maximize  \nperformance.linear_model.syn_id                              0.40  maximize  \nperformance.linear_model.syn_ood                            -0.50  maximize  \nperformance.mlp.gt                                          -2.43  maximize  \nperformance.mlp.syn_id                                      -8.90  maximize  \nperformance.mlp.syn_ood                                     -5.24  maximize  \nperformance.xgb.gt                                           0.46  maximize  \nperformance.xgb.syn_id                                       0.30  maximize  \nperformance.xgb.syn_ood                                     -0.40  maximize  \nperformance.linear_model_augmentation.gt                     0.66  maximize  \nperformance.linear_model_augmentation.aug_ood               -0.50  maximize  \nperformance.mlp_augmentation.gt                             -2.43  maximize  \nperformance.mlp_augmentation.aug_ood                        -5.24  maximize  \nperformance.xgb_augmentation.gt                              0.46  maximize  \nperformance.xgb_augmentation.aug_ood                        -0.40  maximize  \ndetection.detection_xgb.mean                                 0.87  minimize  \ndetection.detection_mlp.mean                                 0.49  minimize  \ndetection.detection_gmm.mean                                 0.29  minimize  \ndetection.detection_linear.mean                              0.81  minimize  \nprivacy.delta-presence.score                                 4.33  maximize  \nprivacy.k-anonymization.gt                                   1.00  maximize  \nprivacy.k-anonymization.syn                                  1.00  maximize  \nprivacy.k-map.score                                          1.00  maximize  \nprivacy.distinct l-diversity.gt                              1.00  maximize  \nprivacy.distinct l-diversity.syn                             1.00  maximize  \nprivacy.identifiability_score.score                          0.33  minimize  \nprivacy.identifiability_score.score_OC                       0.43  minimize  ",
      "text/html": "<div>\n<style scoped>\n    .dataframe tbody tr th:only-of-type {\n        vertical-align: middle;\n    }\n\n    .dataframe tbody tr th {\n        vertical-align: top;\n    }\n\n    .dataframe thead th {\n        text-align: right;\n    }\n</style>\n<table border=\"1\" class=\"dataframe\">\n  <thead>\n    <tr style=\"text-align: right;\">\n      <th></th>\n      <th>Real Data</th>\n      <th>No-Watermark</th>\n      <th>With-Watermark</th>\n      <th>Direction</th>\n    </tr>\n  </thead>\n  <tbody>\n    <tr>\n      <th>sanity.data_mismatch.score</th>\n      <td>0.00</td>\n      <td>0.00</td>\n      <td>0.00</td>\n      <td>minimize</td>\n    </tr>\n    <tr>\n      <th>sanity.common_rows_proportion.score</th>\n      <td>1.00</td>\n      <td>0.00</td>\n      <td>0.00</td>\n      <td>minimize</td>\n    </tr>\n    <tr>\n      <th>sanity.nearest_syn_neighbor_distance.mean</th>\n      <td>0.00</td>\n      <td>0.04</td>\n      <td>0.05</td>\n      <td>minimize</td>\n    </tr>\n    <tr>\n      <th>sanity.close_values_probability.score</th>\n      <td>1.00</td>\n      <td>0.96</td>\n      <td>0.96</td>\n      <td>maximize</td>\n    </tr>\n    <tr>\n      <th>sanity.distant_values_probability.score</th>\n      <td>0.00</td>\n      <td>0.01</td>\n      <td>0.01</td>\n      <td>minimize</td>\n    </tr>\n    <tr>\n      <th>stats.jensenshannon_dist.marginal</th>\n      <td>0.00</td>\n      <td>0.02</td>\n      <td>0.03</td>\n      <td>minimize</td>\n    </tr>\n    <tr>\n      <th>stats.chi_squared_test.marginal</th>\n      <td>1.00</td>\n      <td>0.11</td>\n      <td>0.22</td>\n      <td>maximize</td>\n    </tr>\n    <tr>\n      <th>stats.inv_kl_divergence.marginal</th>\n      <td>1.00</td>\n      <td>0.54</td>\n      <td>0.57</td>\n      <td>maximize</td>\n    </tr>\n    <tr>\n      <th>stats.ks_test.marginal</th>\n      <td>1.00</td>\n      <td>0.86</td>\n      <td>0.72</td>\n      <td>maximize</td>\n    </tr>\n    <tr>\n      <th>stats.max_mean_discrepancy.joint</th>\n      <td>0.00</td>\n      <td>0.02</td>\n      <td>0.02</td>\n      <td>minimize</td>\n    </tr>\n    <tr>\n      <th>stats.wasserstein_dist.joint</th>\n      <td>0.00</td>\n      <td>0.10</td>\n      <td>0.15</td>\n      <td>minimize</td>\n    </tr>\n    <tr>\n      <th>stats.prdc.precision</th>\n      <td>1.00</td>\n      <td>1.00</td>\n      <td>1.00</td>\n      <td>maximize</td>\n    </tr>\n    <tr>\n      <th>stats.prdc.recall</th>\n      <td>1.00</td>\n      <td>0.97</td>\n      <td>0.88</td>\n      <td>maximize</td>\n    </tr>\n    <tr>\n      <th>stats.prdc.density</th>\n      <td>1.00</td>\n      <td>1.03</td>\n      <td>0.94</td>\n      <td>maximize</td>\n    </tr>\n    <tr>\n      <th>stats.prdc.coverage</th>\n      <td>1.00</td>\n      <td>0.83</td>\n      <td>0.75</td>\n      <td>maximize</td>\n    </tr>\n    <tr>\n      <th>stats.alpha_precision.delta_precision_alpha_OC</th>\n      <td>0.99</td>\n      <td>0.94</td>\n      <td>0.93</td>\n      <td>maximize</td>\n    </tr>\n    <tr>\n      <th>stats.alpha_precision.delta_coverage_beta_OC</th>\n      <td>0.99</td>\n      <td>0.46</td>\n      <td>0.43</td>\n      <td>maximize</td>\n    </tr>\n    <tr>\n      <th>stats.alpha_precision.authenticity_OC</th>\n      <td>0.00</td>\n      <td>0.55</td>\n      <td>0.52</td>\n      <td>maximize</td>\n    </tr>\n    <tr>\n      <th>stats.alpha_precision.delta_precision_alpha_naive</th>\n      <td>0.99</td>\n      <td>0.76</td>\n      <td>0.77</td>\n      <td>maximize</td>\n    </tr>\n    <tr>\n      <th>stats.alpha_precision.delta_coverage_beta_naive</th>\n      <td>0.99</td>\n      <td>0.27</td>\n      <td>0.23</td>\n      <td>maximize</td>\n    </tr>\n    <tr>\n      <th>stats.alpha_precision.authenticity_naive</th>\n      <td>0.00</td>\n      <td>0.63</td>\n      <td>0.69</td>\n      <td>maximize</td>\n    </tr>\n    <tr>\n      <th>performance.linear_model.gt</th>\n      <td>0.66</td>\n      <td>0.66</td>\n      <td>0.66</td>\n      <td>maximize</td>\n    </tr>\n    <tr>\n      <th>performance.linear_model.syn_id</th>\n      <td>0.72</td>\n      <td>0.39</td>\n      <td>0.40</td>\n      <td>maximize</td>\n    </tr>\n    <tr>\n      <th>performance.linear_model.syn_ood</th>\n      <td>0.67</td>\n      <td>-0.33</td>\n      <td>-0.50</td>\n      <td>maximize</td>\n    </tr>\n    <tr>\n      <th>performance.mlp.gt</th>\n      <td>-2.43</td>\n      <td>-2.43</td>\n      <td>-2.43</td>\n      <td>maximize</td>\n    </tr>\n    <tr>\n      <th>performance.mlp.syn_id</th>\n      <td>-6.08</td>\n      <td>-2.65</td>\n      <td>-8.90</td>\n      <td>maximize</td>\n    </tr>\n    <tr>\n      <th>performance.mlp.syn_ood</th>\n      <td>-3.39</td>\n      <td>-2.68</td>\n      <td>-5.24</td>\n      <td>maximize</td>\n    </tr>\n    <tr>\n      <th>performance.xgb.gt</th>\n      <td>0.46</td>\n      <td>0.46</td>\n      <td>0.46</td>\n      <td>maximize</td>\n    </tr>\n    <tr>\n      <th>performance.xgb.syn_id</th>\n      <td>1.00</td>\n      <td>0.12</td>\n      <td>0.30</td>\n      <td>maximize</td>\n    </tr>\n    <tr>\n      <th>performance.xgb.syn_ood</th>\n      <td>1.00</td>\n      <td>-0.71</td>\n      <td>-0.40</td>\n      <td>maximize</td>\n    </tr>\n    <tr>\n      <th>performance.linear_model_augmentation.gt</th>\n      <td>0.66</td>\n      <td>0.66</td>\n      <td>0.66</td>\n      <td>maximize</td>\n    </tr>\n    <tr>\n      <th>performance.linear_model_augmentation.aug_ood</th>\n      <td>0.67</td>\n      <td>-0.33</td>\n      <td>-0.50</td>\n      <td>maximize</td>\n    </tr>\n    <tr>\n      <th>performance.mlp_augmentation.gt</th>\n      <td>-2.43</td>\n      <td>-2.43</td>\n      <td>-2.43</td>\n      <td>maximize</td>\n    </tr>\n    <tr>\n      <th>performance.mlp_augmentation.aug_ood</th>\n      <td>-3.39</td>\n      <td>-2.68</td>\n      <td>-5.24</td>\n      <td>maximize</td>\n    </tr>\n    <tr>\n      <th>performance.xgb_augmentation.gt</th>\n      <td>0.46</td>\n      <td>0.46</td>\n      <td>0.46</td>\n      <td>maximize</td>\n    </tr>\n    <tr>\n      <th>performance.xgb_augmentation.aug_ood</th>\n      <td>1.00</td>\n      <td>-0.71</td>\n      <td>-0.40</td>\n      <td>maximize</td>\n    </tr>\n    <tr>\n      <th>detection.detection_xgb.mean</th>\n      <td>0.06</td>\n      <td>0.79</td>\n      <td>0.87</td>\n      <td>minimize</td>\n    </tr>\n    <tr>\n      <th>detection.detection_mlp.mean</th>\n      <td>0.50</td>\n      <td>0.50</td>\n      <td>0.49</td>\n      <td>minimize</td>\n    </tr>\n    <tr>\n      <th>detection.detection_gmm.mean</th>\n      <td>0.51</td>\n      <td>0.59</td>\n      <td>0.29</td>\n      <td>minimize</td>\n    </tr>\n    <tr>\n      <th>detection.detection_linear.mean</th>\n      <td>0.37</td>\n      <td>0.58</td>\n      <td>0.81</td>\n      <td>minimize</td>\n    </tr>\n    <tr>\n      <th>privacy.delta-presence.score</th>\n      <td>1.00</td>\n      <td>6.50</td>\n      <td>4.33</td>\n      <td>maximize</td>\n    </tr>\n    <tr>\n      <th>privacy.k-anonymization.gt</th>\n      <td>1.00</td>\n      <td>1.00</td>\n      <td>1.00</td>\n      <td>maximize</td>\n    </tr>\n    <tr>\n      <th>privacy.k-anonymization.syn</th>\n      <td>1.00</td>\n      <td>1.00</td>\n      <td>1.00</td>\n      <td>maximize</td>\n    </tr>\n    <tr>\n      <th>privacy.k-map.score</th>\n      <td>1.00</td>\n      <td>2.00</td>\n      <td>1.00</td>\n      <td>maximize</td>\n    </tr>\n    <tr>\n      <th>privacy.distinct l-diversity.gt</th>\n      <td>1.00</td>\n      <td>1.00</td>\n      <td>1.00</td>\n      <td>maximize</td>\n    </tr>\n    <tr>\n      <th>privacy.distinct l-diversity.syn</th>\n      <td>1.00</td>\n      <td>1.00</td>\n      <td>1.00</td>\n      <td>maximize</td>\n    </tr>\n    <tr>\n      <th>privacy.identifiability_score.score</th>\n      <td>1.00</td>\n      <td>0.39</td>\n      <td>0.33</td>\n      <td>minimize</td>\n    </tr>\n    <tr>\n      <th>privacy.identifiability_score.score_OC</th>\n      <td>1.00</td>\n      <td>0.44</td>\n      <td>0.43</td>\n      <td>minimize</td>\n    </tr>\n  </tbody>\n</table>\n</div>"
     },
     "execution_count": 146,
     "metadata": {},
     "output_type": "execute_result"
    }
   ],
   "source": [
    "from synthcity.metrics.eval import Metrics\n",
    "import pandas as pd\n",
    "def synthcity_evaluate(real_path,\n",
    "                       syn_path,\n",
    "                       result_name=None,\n",
    "                       real_size = None,\n",
    "                       syn_size = None):\n",
    "    real_data = pd.read_csv(real_path)\n",
    "    syn_data = pd.read_csv(syn_path)\n",
    "    \n",
    "    if real_size and real_size < len(real_data):\n",
    "        real_data = real_data.sample(n=real_size, random_state=42)  # Adjust random_state as desired for reproducibility\n",
    "    if syn_size and syn_size < len(syn_data):\n",
    "        syn_data = syn_data.sample(n=syn_size, random_state=42)\n",
    "    \n",
    "    synthcity_result = Metrics.evaluate(real_data, syn_data)\n",
    "    if result_name:\n",
    "        synthcity_result.to_csv(result_name)\n",
    "    # synthcity_result.columns = \"metrics\" + synthcity_result.columns\n",
    "    # synthcity_result.columns = synthcity_result.columns.insert(0, \"metrics\")\n",
    "    return synthcity_result\n",
    "    \n",
    "def compare(real_file_name, no_water_mark_file_name, with_water_mark_file_name, size):\n",
    "    samples_dir = \"/Users/minhkau/Documents/TUDelft/Year 3/RP/Code/tabular-gpt/samples/\"\n",
    "    real_path = samples_dir + real_file_name\n",
    "    synth_no_watermark_path = samples_dir + no_water_mark_file_name\n",
    "    synth_with_watermark_path = samples_dir + with_water_mark_file_name\n",
    "    \n",
    "    \n",
    "    real_df = synthcity_evaluate(real_path, real_path, real_size=size, syn_size=size)[[\"min\"]]\n",
    "    no_water_mark_df = synthcity_evaluate(real_path, synth_no_watermark_path, real_size=size, syn_size=size)[[\"min\"]]\n",
    "    with_watermark_df = synthcity_evaluate(real_path, synth_with_watermark_path, real_size=size, syn_size=size)[[\"min\", \"direction\"]]\n",
    "    merge_result = real_df.join(no_water_mark_df, lsuffix='_real', rsuffix='_no_watermark')\n",
    "    merge_result_final = merge_result.join(with_watermark_df)\n",
    "    \n",
    "    merge_result_final.columns = [\"Real Data\", \"No-Watermark\", \"With-Watermark\", \"Direction\"]\n",
    "    merge_result_final = merge_result_final.round(2)\n",
    "    \n",
    "    interested_metrics = [\n",
    "     \"sanity.nearest_syn_neighbor_distance.mean\", \n",
    "        \"stats.ks_test.marginal\",\n",
    "        \"performance.linear_model.gt\",\n",
    "        \"performance.xgb.gt\",\n",
    "        \"performance.mlp.gt\"\n",
    "    ]\n",
    "\n",
    "    # merge_result_final = merge_result_final.loc[merge_result_final[\"Metrics\"].isin(interested_metrics)]\n",
    "    return merge_result_final\n",
    "\n",
    "compare(\n",
    "    \"california.csv\",\n",
    "    \"california_100_non-watermark.csv\",\n",
    "    \"california_100_with-watermark_gamma-0.25_delta-2.0.csv\",\n",
    "    size=100\n",
    ")\n",
    "\n"
   ],
   "metadata": {
    "collapsed": false,
    "ExecuteTime": {
     "end_time": "2024-05-13T15:03:28.190701Z",
     "start_time": "2024-05-13T15:03:27.923452Z"
    }
   },
   "id": "362a13a900221b0e",
   "execution_count": 146
  }
 ],
 "metadata": {
  "kernelspec": {
   "display_name": "Python 3",
   "language": "python",
   "name": "python3"
  },
  "language_info": {
   "codemirror_mode": {
    "name": "ipython",
    "version": 2
   },
   "file_extension": ".py",
   "mimetype": "text/x-python",
   "name": "python",
   "nbconvert_exporter": "python",
   "pygments_lexer": "ipython2",
   "version": "2.7.6"
  }
 },
 "nbformat": 4,
 "nbformat_minor": 5
}
