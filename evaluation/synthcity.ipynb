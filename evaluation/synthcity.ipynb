{
 "cells": [
  {
   "cell_type": "code",
   "outputs": [],
   "source": [
    "from synthcity.metrics.eval import Metrics\n",
    "import pandas as pd\n",
    "def synthcity_evaluate(real_path, syn_path, result_dir, result_name, real_size, syn_size): \n",
    "    real_data = pd.read_csv(real_path)\n",
    "    syn_data = pd.read_csv(syn_path)\n",
    "    \n",
    "    if not real_size:\n",
    "        real_size = len(real_data)\n",
    "    if not syn_size:\n",
    "        syn_size = len(syn_data)\n",
    "    \n",
    "    if real_size < len(real_data):\n",
    "        real_data = real_data.sample(n=real_size, random_state=42)  # Adjust random_state as desired for reproducibility\n",
    "    if syn_size < len(syn_data):\n",
    "        syn_data = syn_data.sample(n=syn_size, random_state=42)\n",
    "    \n",
    "    synthcity_result = Metrics.evaluate(real_data, syn_data)\n",
    "    synthcity_result.to_csv(result_name + \".csv\")\n",
    "    return synthcity_result\n",
    "    \n",
    "def compare_results(dataset1_result_path, dataset2_result_path):\n",
    "    dataset1_result = pd.read_csv(dataset1_result_path)[['Unnamed: 0', 'min', 'direction']]\n",
    "    dataset2_result = pd.read_csv(dataset2_result_path)[['Unnamed: 0', 'min', 'direction']]\n",
    "    \n",
    "    # Merge dataset1_result and dataset2_result based on the 'Unnamed: 0' column\n",
    "    merged_result = pd.merge(dataset1_result, dataset2_result[['Unnamed: 0', 'min']], on='Unnamed: 0', suffixes=('_dataset1', '_dataset2'))\n",
    "    \n",
    "    # Reorder columns in merged_result\n",
    "    # Get a list of columns excluding 'direction'\n",
    "    columns_reordered = [col for col in merged_result.columns if col != 'direction']\n",
    "    \n",
    "    # Append 'direction' column to the end of the list\n",
    "    columns_reordered.append('direction')\n",
    "    \n",
    "    # Reassign the DataFrame with reordered columns\n",
    "    merged_result = merged_result[columns_reordered]\n",
    "    return merged_result"
   ],
   "metadata": {
    "collapsed": false,
    "ExecuteTime": {
     "end_time": "2024-05-06T15:48:10.713365Z",
     "start_time": "2024-05-06T15:48:10.705971Z"
    }
   },
   "id": "362a13a900221b0e",
   "execution_count": 9
  },
  {
   "cell_type": "code",
   "outputs": [
    {
     "data": {
      "text/plain": "                                       Unnamed: 0  min_dataset1  min_dataset2  \\\n0                      sanity.data_mismatch.score      0.062500      0.125000   \n1             sanity.common_rows_proportion.score      0.000000      0.000000   \n2       sanity.nearest_syn_neighbor_distance.mean      0.183566      0.000829   \n3           sanity.close_values_probability.score      0.650000      0.999450   \n4         sanity.distant_values_probability.score      0.020000      0.000050   \n5               stats.jensenshannon_dist.marginal      0.057305      0.017926   \n6                 stats.chi_squared_test.marginal      0.399312      0.792003   \n7                stats.inv_kl_divergence.marginal      0.505804      0.850483   \n8                          stats.ks_test.marginal      0.544667      0.867063   \n9                stats.max_mean_discrepancy.joint      0.020075      0.000104   \n10                           stats.prdc.precision      1.000000      0.989500   \n11                              stats.prdc.recall      0.970000      0.818850   \n12                             stats.prdc.density      1.054000      0.963440   \n13                            stats.prdc.coverage      0.840000      0.725750   \n14                    performance.linear_model.gt      0.744361      0.801253   \n15                performance.linear_model.syn_id      0.758772      0.797017   \n16               performance.linear_model.syn_ood      0.773810      0.796115   \n17                             performance.mlp.gt      0.500000      0.000000   \n18                         performance.mlp.syn_id      0.500000      0.000000   \n19                        performance.mlp.syn_ood      0.500000      0.000000   \n20                             performance.xgb.gt      0.897556      0.903536   \n21                         performance.xgb.syn_id      0.763158      0.891204   \n22                        performance.xgb.syn_ood      0.767857      0.890805   \n23       performance.linear_model_augmentation.gt      0.744361      0.801253   \n24  performance.linear_model_augmentation.aug_ood      0.773810      0.796115   \n25                performance.mlp_augmentation.gt      0.500000      0.000000   \n26           performance.mlp_augmentation.aug_ood      0.500000      0.000000   \n27                performance.xgb_augmentation.gt      0.897556      0.903536   \n28           performance.xgb_augmentation.aug_ood      0.767857      0.890805   \n29            performance.feat_rank_distance.corr      0.126316      0.590619   \n30          performance.feat_rank_distance.pvalue      0.460524      0.000000   \n31                   detection.detection_xgb.mean      1.000000      0.999559   \n32                   detection.detection_gmm.mean      0.454388      0.466522   \n33                detection.detection_linear.mean      0.999388      0.934533   \n34                   privacy.delta-presence.score      4.000000      4.000000   \n35                     privacy.k-anonymization.gt      2.000000      8.000000   \n36                    privacy.k-anonymization.syn      1.000000      3.000000   \n37                            privacy.k-map.score      1.000000      2.000000   \n38                privacy.distinct l-diversity.gt      2.000000      8.000000   \n39               privacy.distinct l-diversity.syn      1.000000      3.000000   \n\n   direction  \n0   minimize  \n1   minimize  \n2   minimize  \n3   maximize  \n4   minimize  \n5   minimize  \n6   maximize  \n7   maximize  \n8   maximize  \n9   minimize  \n10  maximize  \n11  maximize  \n12  maximize  \n13  maximize  \n14  maximize  \n15  maximize  \n16  maximize  \n17  maximize  \n18  maximize  \n19  maximize  \n20  maximize  \n21  maximize  \n22  maximize  \n23  maximize  \n24  maximize  \n25  maximize  \n26  maximize  \n27  maximize  \n28  maximize  \n29  minimize  \n30  minimize  \n31  minimize  \n32  minimize  \n33  minimize  \n34  maximize  \n35  maximize  \n36  maximize  \n37  maximize  \n38  maximize  \n39  maximize  ",
      "text/html": "<div>\n<style scoped>\n    .dataframe tbody tr th:only-of-type {\n        vertical-align: middle;\n    }\n\n    .dataframe tbody tr th {\n        vertical-align: top;\n    }\n\n    .dataframe thead th {\n        text-align: right;\n    }\n</style>\n<table border=\"1\" class=\"dataframe\">\n  <thead>\n    <tr style=\"text-align: right;\">\n      <th></th>\n      <th>Unnamed: 0</th>\n      <th>min_dataset1</th>\n      <th>min_dataset2</th>\n      <th>direction</th>\n    </tr>\n  </thead>\n  <tbody>\n    <tr>\n      <th>0</th>\n      <td>sanity.data_mismatch.score</td>\n      <td>0.062500</td>\n      <td>0.125000</td>\n      <td>minimize</td>\n    </tr>\n    <tr>\n      <th>1</th>\n      <td>sanity.common_rows_proportion.score</td>\n      <td>0.000000</td>\n      <td>0.000000</td>\n      <td>minimize</td>\n    </tr>\n    <tr>\n      <th>2</th>\n      <td>sanity.nearest_syn_neighbor_distance.mean</td>\n      <td>0.183566</td>\n      <td>0.000829</td>\n      <td>minimize</td>\n    </tr>\n    <tr>\n      <th>3</th>\n      <td>sanity.close_values_probability.score</td>\n      <td>0.650000</td>\n      <td>0.999450</td>\n      <td>maximize</td>\n    </tr>\n    <tr>\n      <th>4</th>\n      <td>sanity.distant_values_probability.score</td>\n      <td>0.020000</td>\n      <td>0.000050</td>\n      <td>minimize</td>\n    </tr>\n    <tr>\n      <th>5</th>\n      <td>stats.jensenshannon_dist.marginal</td>\n      <td>0.057305</td>\n      <td>0.017926</td>\n      <td>minimize</td>\n    </tr>\n    <tr>\n      <th>6</th>\n      <td>stats.chi_squared_test.marginal</td>\n      <td>0.399312</td>\n      <td>0.792003</td>\n      <td>maximize</td>\n    </tr>\n    <tr>\n      <th>7</th>\n      <td>stats.inv_kl_divergence.marginal</td>\n      <td>0.505804</td>\n      <td>0.850483</td>\n      <td>maximize</td>\n    </tr>\n    <tr>\n      <th>8</th>\n      <td>stats.ks_test.marginal</td>\n      <td>0.544667</td>\n      <td>0.867063</td>\n      <td>maximize</td>\n    </tr>\n    <tr>\n      <th>9</th>\n      <td>stats.max_mean_discrepancy.joint</td>\n      <td>0.020075</td>\n      <td>0.000104</td>\n      <td>minimize</td>\n    </tr>\n    <tr>\n      <th>10</th>\n      <td>stats.prdc.precision</td>\n      <td>1.000000</td>\n      <td>0.989500</td>\n      <td>maximize</td>\n    </tr>\n    <tr>\n      <th>11</th>\n      <td>stats.prdc.recall</td>\n      <td>0.970000</td>\n      <td>0.818850</td>\n      <td>maximize</td>\n    </tr>\n    <tr>\n      <th>12</th>\n      <td>stats.prdc.density</td>\n      <td>1.054000</td>\n      <td>0.963440</td>\n      <td>maximize</td>\n    </tr>\n    <tr>\n      <th>13</th>\n      <td>stats.prdc.coverage</td>\n      <td>0.840000</td>\n      <td>0.725750</td>\n      <td>maximize</td>\n    </tr>\n    <tr>\n      <th>14</th>\n      <td>performance.linear_model.gt</td>\n      <td>0.744361</td>\n      <td>0.801253</td>\n      <td>maximize</td>\n    </tr>\n    <tr>\n      <th>15</th>\n      <td>performance.linear_model.syn_id</td>\n      <td>0.758772</td>\n      <td>0.797017</td>\n      <td>maximize</td>\n    </tr>\n    <tr>\n      <th>16</th>\n      <td>performance.linear_model.syn_ood</td>\n      <td>0.773810</td>\n      <td>0.796115</td>\n      <td>maximize</td>\n    </tr>\n    <tr>\n      <th>17</th>\n      <td>performance.mlp.gt</td>\n      <td>0.500000</td>\n      <td>0.000000</td>\n      <td>maximize</td>\n    </tr>\n    <tr>\n      <th>18</th>\n      <td>performance.mlp.syn_id</td>\n      <td>0.500000</td>\n      <td>0.000000</td>\n      <td>maximize</td>\n    </tr>\n    <tr>\n      <th>19</th>\n      <td>performance.mlp.syn_ood</td>\n      <td>0.500000</td>\n      <td>0.000000</td>\n      <td>maximize</td>\n    </tr>\n    <tr>\n      <th>20</th>\n      <td>performance.xgb.gt</td>\n      <td>0.897556</td>\n      <td>0.903536</td>\n      <td>maximize</td>\n    </tr>\n    <tr>\n      <th>21</th>\n      <td>performance.xgb.syn_id</td>\n      <td>0.763158</td>\n      <td>0.891204</td>\n      <td>maximize</td>\n    </tr>\n    <tr>\n      <th>22</th>\n      <td>performance.xgb.syn_ood</td>\n      <td>0.767857</td>\n      <td>0.890805</td>\n      <td>maximize</td>\n    </tr>\n    <tr>\n      <th>23</th>\n      <td>performance.linear_model_augmentation.gt</td>\n      <td>0.744361</td>\n      <td>0.801253</td>\n      <td>maximize</td>\n    </tr>\n    <tr>\n      <th>24</th>\n      <td>performance.linear_model_augmentation.aug_ood</td>\n      <td>0.773810</td>\n      <td>0.796115</td>\n      <td>maximize</td>\n    </tr>\n    <tr>\n      <th>25</th>\n      <td>performance.mlp_augmentation.gt</td>\n      <td>0.500000</td>\n      <td>0.000000</td>\n      <td>maximize</td>\n    </tr>\n    <tr>\n      <th>26</th>\n      <td>performance.mlp_augmentation.aug_ood</td>\n      <td>0.500000</td>\n      <td>0.000000</td>\n      <td>maximize</td>\n    </tr>\n    <tr>\n      <th>27</th>\n      <td>performance.xgb_augmentation.gt</td>\n      <td>0.897556</td>\n      <td>0.903536</td>\n      <td>maximize</td>\n    </tr>\n    <tr>\n      <th>28</th>\n      <td>performance.xgb_augmentation.aug_ood</td>\n      <td>0.767857</td>\n      <td>0.890805</td>\n      <td>maximize</td>\n    </tr>\n    <tr>\n      <th>29</th>\n      <td>performance.feat_rank_distance.corr</td>\n      <td>0.126316</td>\n      <td>0.590619</td>\n      <td>minimize</td>\n    </tr>\n    <tr>\n      <th>30</th>\n      <td>performance.feat_rank_distance.pvalue</td>\n      <td>0.460524</td>\n      <td>0.000000</td>\n      <td>minimize</td>\n    </tr>\n    <tr>\n      <th>31</th>\n      <td>detection.detection_xgb.mean</td>\n      <td>1.000000</td>\n      <td>0.999559</td>\n      <td>minimize</td>\n    </tr>\n    <tr>\n      <th>32</th>\n      <td>detection.detection_gmm.mean</td>\n      <td>0.454388</td>\n      <td>0.466522</td>\n      <td>minimize</td>\n    </tr>\n    <tr>\n      <th>33</th>\n      <td>detection.detection_linear.mean</td>\n      <td>0.999388</td>\n      <td>0.934533</td>\n      <td>minimize</td>\n    </tr>\n    <tr>\n      <th>34</th>\n      <td>privacy.delta-presence.score</td>\n      <td>4.000000</td>\n      <td>4.000000</td>\n      <td>maximize</td>\n    </tr>\n    <tr>\n      <th>35</th>\n      <td>privacy.k-anonymization.gt</td>\n      <td>2.000000</td>\n      <td>8.000000</td>\n      <td>maximize</td>\n    </tr>\n    <tr>\n      <th>36</th>\n      <td>privacy.k-anonymization.syn</td>\n      <td>1.000000</td>\n      <td>3.000000</td>\n      <td>maximize</td>\n    </tr>\n    <tr>\n      <th>37</th>\n      <td>privacy.k-map.score</td>\n      <td>1.000000</td>\n      <td>2.000000</td>\n      <td>maximize</td>\n    </tr>\n    <tr>\n      <th>38</th>\n      <td>privacy.distinct l-diversity.gt</td>\n      <td>2.000000</td>\n      <td>8.000000</td>\n      <td>maximize</td>\n    </tr>\n    <tr>\n      <th>39</th>\n      <td>privacy.distinct l-diversity.syn</td>\n      <td>1.000000</td>\n      <td>3.000000</td>\n      <td>maximize</td>\n    </tr>\n  </tbody>\n</table>\n</div>"
     },
     "execution_count": 8,
     "metadata": {},
     "output_type": "execute_result"
    }
   ],
   "source": [
    "compare_results(\"/Users/minhkau/Documents/TUDelft/Year 3/RP/Code/tabular-gpt/evaluation/synthcity_result_watermarked_100.csv\",\n",
    "                \"/Users/minhkau/Documents/TUDelft/Year 3/RP/Code/tabular-gpt/evaluation/synthcity_result_20k.csv\")"
   ],
   "metadata": {
    "collapsed": false,
    "ExecuteTime": {
     "end_time": "2024-05-06T15:33:59.781562Z",
     "start_time": "2024-05-06T15:33:59.759273Z"
    }
   },
   "id": "f6d297ae3ea90568",
   "execution_count": 8
  },
  {
   "cell_type": "code",
   "outputs": [],
   "source": [],
   "metadata": {
    "collapsed": false
   },
   "id": "73d11683c0b357f4"
  }
 ],
 "metadata": {
  "kernelspec": {
   "display_name": "Python 3",
   "language": "python",
   "name": "python3"
  },
  "language_info": {
   "codemirror_mode": {
    "name": "ipython",
    "version": 2
   },
   "file_extension": ".py",
   "mimetype": "text/x-python",
   "name": "python",
   "nbconvert_exporter": "python",
   "pygments_lexer": "ipython2",
   "version": "2.7.6"
  }
 },
 "nbformat": 4,
 "nbformat_minor": 5
}
