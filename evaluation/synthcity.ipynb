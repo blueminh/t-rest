{
 "cells": [
  {
   "cell_type": "code",
   "outputs": [
    {
     "name": "stdout",
     "output_type": "stream",
     "text": [
      "[KeOps] Warning : omp.h header is not in the path, disabling OpenMP. To fix this, you can set the environment\n",
      "                  variable OMP_PATH to the location of the header before importing keopscore or pykeops,\n",
      "                  e.g. using os.environ: import os; os.environ['OMP_PATH'] = '/path/to/omp/header'\n",
      "[KeOps] Warning : Cuda libraries were not detected on the system or could not be loaded ; using cpu only mode\n"
     ]
    }
   ],
   "source": [
    "from synthcity.metrics.eval import Metrics\n",
    "import pandas as pd\n",
    "def synthcity_evaluate(real_path,\n",
    "                       syn_path,\n",
    "                       result_name=None,\n",
    "                       real_size = None,\n",
    "                       syn_size = None): \n",
    "    real_data = pd.read_csv(real_path)\n",
    "    syn_data = pd.read_csv(syn_path)\n",
    "    \n",
    "    if real_size and real_size < len(real_data):\n",
    "        real_data = real_data.sample(n=real_size, random_state=42)  # Adjust random_state as desired for reproducibility\n",
    "    if syn_size and syn_size < len(syn_data):\n",
    "        syn_data = syn_data.sample(n=syn_size, random_state=42)\n",
    "    \n",
    "    synthcity_result = Metrics.evaluate(real_data, syn_data)\n",
    "    if result_name:\n",
    "        synthcity_result.to_csv(result_name)\n",
    "    return synthcity_result\n",
    "    \n",
    "def compare_results(\n",
    "        dataset1_result_path=None, \n",
    "        dataset2_result_path=None,\n",
    "        dataset1_result=None,\n",
    "        dataset2_result=None\n",
    "        ):\n",
    "    if dataset1_result_path:\n",
    "        dataset1_result = pd.read_csv(dataset1_result_path)[['Unnamed: 0', 'min', 'direction']]\n",
    "    if dataset2_result_path:\n",
    "        dataset2_result = pd.read_csv(dataset2_result_path)[['Unnamed: 0', 'min', 'direction']]\n",
    "    \n",
    "    # Merge dataset1_result and dataset2_result based on the 'Unnamed: 0' column\n",
    "    merged_result = pd.merge(dataset1_result, dataset2_result[['Unnamed: 0', 'min']], on='Unnamed: 0', suffixes=('_dataset1', '_dataset2'))\n",
    "    \n",
    "    # Reorder columns in merged_result\n",
    "    # Get a list of columns excluding 'direction'\n",
    "    columns_reordered = [col for col in merged_result.columns if col != 'direction']\n",
    "    \n",
    "    # Append 'direction' column to the end of the list\n",
    "    columns_reordered.append('direction')\n",
    "    \n",
    "    # Reassign the DataFrame with reordered columns\n",
    "    merged_result = merged_result[columns_reordered]\n",
    "    return merged_result"
   ],
   "metadata": {
    "collapsed": false,
    "ExecuteTime": {
     "end_time": "2024-05-12T18:47:08.508846Z",
     "start_time": "2024-05-12T18:47:05.001046Z"
    }
   },
   "id": "362a13a900221b0e",
   "execution_count": 1
  },
  {
   "cell_type": "code",
   "outputs": [],
   "source": [
    "samples_dir = \"/Users/minhkau/Documents/TUDelft/Year 3/RP/Code/tabular-gpt/samples\"\n",
    "real_path = samples_dir+\"/adult.csv\"\n",
    "synth_no_watermark_path = samples_dir+\"/adult_samples_10k.csv\"\n",
    "synth_with_watermark_path = samples_dir+\"/great_watermaked_adult_samples_1000_fixed_seed.csv\"\n",
    "df1 = synthcity_evaluate(real_path, real_path, real_size=1000, syn_size=1000, result_name=\"real_synthcity_result_1000.csv\")\n",
    "df2 = synthcity_evaluate(real_path, synth_no_watermark_path, real_size=1000, syn_size=1000, result_name=\"no_watermark_synthcity_result_1000.csv\")\n",
    "df3 = synthcity_evaluate(real_path, synth_with_watermark_path, real_size=1000, syn_size=1000, result_name=\"with_watermark_synthcity_result_1000.csv\")\n",
    "\n"
   ],
   "metadata": {
    "collapsed": false,
    "ExecuteTime": {
     "end_time": "2024-05-12T18:53:11.454415Z",
     "start_time": "2024-05-12T18:52:46.531414Z"
    }
   },
   "id": "73d11683c0b357f4",
   "execution_count": 7
  },
  {
   "cell_type": "code",
   "outputs": [
    {
     "data": {
      "text/plain": "                                       Unnamed: 0  min_dataset1  min_dataset2  \\\n0                      sanity.data_mismatch.score      0.000000  1.250000e-01   \n1             sanity.common_rows_proportion.score      0.998700  0.000000e+00   \n2       sanity.nearest_syn_neighbor_distance.mean      0.000000  2.870390e-03   \n3           sanity.close_values_probability.score      1.000000  9.990000e-01   \n4         sanity.distant_values_probability.score      0.000000  1.000000e-03   \n5               stats.jensenshannon_dist.marginal      0.000000  2.139866e-02   \n6                 stats.chi_squared_test.marginal      1.000000  7.956620e-01   \n7                stats.inv_kl_divergence.marginal      1.000000  8.381935e-01   \n8                          stats.ks_test.marginal      1.000000  8.465333e-01   \n9                stats.max_mean_discrepancy.joint      0.000000  2.000011e-03   \n10                           stats.prdc.precision      1.000000  9.990000e-01   \n11                              stats.prdc.recall      1.000000  9.960000e-01   \n12                             stats.prdc.density      0.999200  1.001200e+00   \n13                            stats.prdc.coverage      1.000000  9.280000e-01   \n14                    performance.linear_model.gt      0.803447  8.090560e-01   \n15                performance.linear_model.syn_id      0.800987  7.973010e-01   \n16               performance.linear_model.syn_ood      0.800002  7.910667e-01   \n17                             performance.mlp.gt      0.000000  5.000000e-01   \n18                         performance.mlp.syn_id      0.000000  5.000000e-01   \n19                        performance.mlp.syn_ood      0.000000  5.000000e-01   \n20                             performance.xgb.gt      0.891732  8.836107e-01   \n21                         performance.xgb.syn_id      0.974276  8.460480e-01   \n22                        performance.xgb.syn_ood      0.971554  8.266667e-01   \n23       performance.linear_model_augmentation.gt      0.803447  8.090560e-01   \n24  performance.linear_model_augmentation.aug_ood      0.800002  7.910667e-01   \n25                performance.mlp_augmentation.gt      0.000000  5.000000e-01   \n26           performance.mlp_augmentation.aug_ood      0.000000  5.000000e-01   \n27                performance.xgb_augmentation.gt      0.891732  8.836107e-01   \n28           performance.xgb_augmentation.aug_ood      0.971554  8.266667e-01   \n29            performance.feat_rank_distance.corr      0.733801  2.755779e-01   \n30          performance.feat_rank_distance.pvalue      0.000000  6.826031e-09   \n31                   detection.detection_xgb.mean      0.173879  9.997060e-01   \n32                   detection.detection_gmm.mean      0.503223  4.965744e-01   \n33                detection.detection_linear.mean      0.485798  9.703798e-01   \n34                   privacy.delta-presence.score      1.000000  4.000000e+00   \n35                     privacy.k-anonymization.gt      4.000000  1.000000e+00   \n36                    privacy.k-anonymization.syn      4.000000  2.000000e+00   \n37                            privacy.k-map.score      4.000000  1.000000e+00   \n38                privacy.distinct l-diversity.gt      4.000000  1.000000e+00   \n39               privacy.distinct l-diversity.syn      4.000000  2.000000e+00   \n\n   direction  \n0   minimize  \n1   minimize  \n2   minimize  \n3   maximize  \n4   minimize  \n5   minimize  \n6   maximize  \n7   maximize  \n8   maximize  \n9   minimize  \n10  maximize  \n11  maximize  \n12  maximize  \n13  maximize  \n14  maximize  \n15  maximize  \n16  maximize  \n17  maximize  \n18  maximize  \n19  maximize  \n20  maximize  \n21  maximize  \n22  maximize  \n23  maximize  \n24  maximize  \n25  maximize  \n26  maximize  \n27  maximize  \n28  maximize  \n29  minimize  \n30  minimize  \n31  minimize  \n32  minimize  \n33  minimize  \n34  maximize  \n35  maximize  \n36  maximize  \n37  maximize  \n38  maximize  \n39  maximize  ",
      "text/html": "<div>\n<style scoped>\n    .dataframe tbody tr th:only-of-type {\n        vertical-align: middle;\n    }\n\n    .dataframe tbody tr th {\n        vertical-align: top;\n    }\n\n    .dataframe thead th {\n        text-align: right;\n    }\n</style>\n<table border=\"1\" class=\"dataframe\">\n  <thead>\n    <tr style=\"text-align: right;\">\n      <th></th>\n      <th>Unnamed: 0</th>\n      <th>min_dataset1</th>\n      <th>min_dataset2</th>\n      <th>direction</th>\n    </tr>\n  </thead>\n  <tbody>\n    <tr>\n      <th>0</th>\n      <td>sanity.data_mismatch.score</td>\n      <td>0.000000</td>\n      <td>1.250000e-01</td>\n      <td>minimize</td>\n    </tr>\n    <tr>\n      <th>1</th>\n      <td>sanity.common_rows_proportion.score</td>\n      <td>0.998700</td>\n      <td>0.000000e+00</td>\n      <td>minimize</td>\n    </tr>\n    <tr>\n      <th>2</th>\n      <td>sanity.nearest_syn_neighbor_distance.mean</td>\n      <td>0.000000</td>\n      <td>2.870390e-03</td>\n      <td>minimize</td>\n    </tr>\n    <tr>\n      <th>3</th>\n      <td>sanity.close_values_probability.score</td>\n      <td>1.000000</td>\n      <td>9.990000e-01</td>\n      <td>maximize</td>\n    </tr>\n    <tr>\n      <th>4</th>\n      <td>sanity.distant_values_probability.score</td>\n      <td>0.000000</td>\n      <td>1.000000e-03</td>\n      <td>minimize</td>\n    </tr>\n    <tr>\n      <th>5</th>\n      <td>stats.jensenshannon_dist.marginal</td>\n      <td>0.000000</td>\n      <td>2.139866e-02</td>\n      <td>minimize</td>\n    </tr>\n    <tr>\n      <th>6</th>\n      <td>stats.chi_squared_test.marginal</td>\n      <td>1.000000</td>\n      <td>7.956620e-01</td>\n      <td>maximize</td>\n    </tr>\n    <tr>\n      <th>7</th>\n      <td>stats.inv_kl_divergence.marginal</td>\n      <td>1.000000</td>\n      <td>8.381935e-01</td>\n      <td>maximize</td>\n    </tr>\n    <tr>\n      <th>8</th>\n      <td>stats.ks_test.marginal</td>\n      <td>1.000000</td>\n      <td>8.465333e-01</td>\n      <td>maximize</td>\n    </tr>\n    <tr>\n      <th>9</th>\n      <td>stats.max_mean_discrepancy.joint</td>\n      <td>0.000000</td>\n      <td>2.000011e-03</td>\n      <td>minimize</td>\n    </tr>\n    <tr>\n      <th>10</th>\n      <td>stats.prdc.precision</td>\n      <td>1.000000</td>\n      <td>9.990000e-01</td>\n      <td>maximize</td>\n    </tr>\n    <tr>\n      <th>11</th>\n      <td>stats.prdc.recall</td>\n      <td>1.000000</td>\n      <td>9.960000e-01</td>\n      <td>maximize</td>\n    </tr>\n    <tr>\n      <th>12</th>\n      <td>stats.prdc.density</td>\n      <td>0.999200</td>\n      <td>1.001200e+00</td>\n      <td>maximize</td>\n    </tr>\n    <tr>\n      <th>13</th>\n      <td>stats.prdc.coverage</td>\n      <td>1.000000</td>\n      <td>9.280000e-01</td>\n      <td>maximize</td>\n    </tr>\n    <tr>\n      <th>14</th>\n      <td>performance.linear_model.gt</td>\n      <td>0.803447</td>\n      <td>8.090560e-01</td>\n      <td>maximize</td>\n    </tr>\n    <tr>\n      <th>15</th>\n      <td>performance.linear_model.syn_id</td>\n      <td>0.800987</td>\n      <td>7.973010e-01</td>\n      <td>maximize</td>\n    </tr>\n    <tr>\n      <th>16</th>\n      <td>performance.linear_model.syn_ood</td>\n      <td>0.800002</td>\n      <td>7.910667e-01</td>\n      <td>maximize</td>\n    </tr>\n    <tr>\n      <th>17</th>\n      <td>performance.mlp.gt</td>\n      <td>0.000000</td>\n      <td>5.000000e-01</td>\n      <td>maximize</td>\n    </tr>\n    <tr>\n      <th>18</th>\n      <td>performance.mlp.syn_id</td>\n      <td>0.000000</td>\n      <td>5.000000e-01</td>\n      <td>maximize</td>\n    </tr>\n    <tr>\n      <th>19</th>\n      <td>performance.mlp.syn_ood</td>\n      <td>0.000000</td>\n      <td>5.000000e-01</td>\n      <td>maximize</td>\n    </tr>\n    <tr>\n      <th>20</th>\n      <td>performance.xgb.gt</td>\n      <td>0.891732</td>\n      <td>8.836107e-01</td>\n      <td>maximize</td>\n    </tr>\n    <tr>\n      <th>21</th>\n      <td>performance.xgb.syn_id</td>\n      <td>0.974276</td>\n      <td>8.460480e-01</td>\n      <td>maximize</td>\n    </tr>\n    <tr>\n      <th>22</th>\n      <td>performance.xgb.syn_ood</td>\n      <td>0.971554</td>\n      <td>8.266667e-01</td>\n      <td>maximize</td>\n    </tr>\n    <tr>\n      <th>23</th>\n      <td>performance.linear_model_augmentation.gt</td>\n      <td>0.803447</td>\n      <td>8.090560e-01</td>\n      <td>maximize</td>\n    </tr>\n    <tr>\n      <th>24</th>\n      <td>performance.linear_model_augmentation.aug_ood</td>\n      <td>0.800002</td>\n      <td>7.910667e-01</td>\n      <td>maximize</td>\n    </tr>\n    <tr>\n      <th>25</th>\n      <td>performance.mlp_augmentation.gt</td>\n      <td>0.000000</td>\n      <td>5.000000e-01</td>\n      <td>maximize</td>\n    </tr>\n    <tr>\n      <th>26</th>\n      <td>performance.mlp_augmentation.aug_ood</td>\n      <td>0.000000</td>\n      <td>5.000000e-01</td>\n      <td>maximize</td>\n    </tr>\n    <tr>\n      <th>27</th>\n      <td>performance.xgb_augmentation.gt</td>\n      <td>0.891732</td>\n      <td>8.836107e-01</td>\n      <td>maximize</td>\n    </tr>\n    <tr>\n      <th>28</th>\n      <td>performance.xgb_augmentation.aug_ood</td>\n      <td>0.971554</td>\n      <td>8.266667e-01</td>\n      <td>maximize</td>\n    </tr>\n    <tr>\n      <th>29</th>\n      <td>performance.feat_rank_distance.corr</td>\n      <td>0.733801</td>\n      <td>2.755779e-01</td>\n      <td>minimize</td>\n    </tr>\n    <tr>\n      <th>30</th>\n      <td>performance.feat_rank_distance.pvalue</td>\n      <td>0.000000</td>\n      <td>6.826031e-09</td>\n      <td>minimize</td>\n    </tr>\n    <tr>\n      <th>31</th>\n      <td>detection.detection_xgb.mean</td>\n      <td>0.173879</td>\n      <td>9.997060e-01</td>\n      <td>minimize</td>\n    </tr>\n    <tr>\n      <th>32</th>\n      <td>detection.detection_gmm.mean</td>\n      <td>0.503223</td>\n      <td>4.965744e-01</td>\n      <td>minimize</td>\n    </tr>\n    <tr>\n      <th>33</th>\n      <td>detection.detection_linear.mean</td>\n      <td>0.485798</td>\n      <td>9.703798e-01</td>\n      <td>minimize</td>\n    </tr>\n    <tr>\n      <th>34</th>\n      <td>privacy.delta-presence.score</td>\n      <td>1.000000</td>\n      <td>4.000000e+00</td>\n      <td>maximize</td>\n    </tr>\n    <tr>\n      <th>35</th>\n      <td>privacy.k-anonymization.gt</td>\n      <td>4.000000</td>\n      <td>1.000000e+00</td>\n      <td>maximize</td>\n    </tr>\n    <tr>\n      <th>36</th>\n      <td>privacy.k-anonymization.syn</td>\n      <td>4.000000</td>\n      <td>2.000000e+00</td>\n      <td>maximize</td>\n    </tr>\n    <tr>\n      <th>37</th>\n      <td>privacy.k-map.score</td>\n      <td>4.000000</td>\n      <td>1.000000e+00</td>\n      <td>maximize</td>\n    </tr>\n    <tr>\n      <th>38</th>\n      <td>privacy.distinct l-diversity.gt</td>\n      <td>4.000000</td>\n      <td>1.000000e+00</td>\n      <td>maximize</td>\n    </tr>\n    <tr>\n      <th>39</th>\n      <td>privacy.distinct l-diversity.syn</td>\n      <td>4.000000</td>\n      <td>2.000000e+00</td>\n      <td>maximize</td>\n    </tr>\n  </tbody>\n</table>\n</div>"
     },
     "execution_count": 15,
     "metadata": {},
     "output_type": "execute_result"
    }
   ],
   "source": [
    "synthicity_eval_result_dir = \"/Users/minhkau/Documents/TUDelft/Year 3/RP/Code/tabular-gpt/evaluation\"\n",
    "real_result_path = synthicity_eval_result_dir + \"/real_synthcity_result.csv\"\n",
    "syn_result_path = synthicity_eval_result_dir + \"/great_watermarked_synthicity_result.csv\"\n",
    "compare_df = compare_results(real_result_path, syn_result_path)"
   ],
   "metadata": {
    "collapsed": false,
    "ExecuteTime": {
     "end_time": "2024-05-11T09:34:40.696022Z",
     "start_time": "2024-05-11T09:34:40.675564Z"
    }
   },
   "id": "24f88655e24f63a5",
   "execution_count": 15
  },
  {
   "cell_type": "code",
   "outputs": [
    {
     "data": {
      "text/plain": "                                      Metrics  Real Data  No-Watermark  \\\n2   sanity.nearest_syn_neighbor_distance.mean       0.00          0.02   \n8                      stats.ks_test.marginal       1.00          0.78   \n21                performance.linear_model.gt       0.79          0.79   \n24                         performance.mlp.gt       0.50          0.50   \n27                         performance.xgb.gt       0.87          0.87   \n\n    With-Watermark Direction  \n2             0.01  minimize  \n8             0.72  maximize  \n21            0.79  maximize  \n24            0.50  maximize  \n27            0.87  maximize  ",
      "text/html": "<div>\n<style scoped>\n    .dataframe tbody tr th:only-of-type {\n        vertical-align: middle;\n    }\n\n    .dataframe tbody tr th {\n        vertical-align: top;\n    }\n\n    .dataframe thead th {\n        text-align: right;\n    }\n</style>\n<table border=\"1\" class=\"dataframe\">\n  <thead>\n    <tr style=\"text-align: right;\">\n      <th></th>\n      <th>Metrics</th>\n      <th>Real Data</th>\n      <th>No-Watermark</th>\n      <th>With-Watermark</th>\n      <th>Direction</th>\n    </tr>\n  </thead>\n  <tbody>\n    <tr>\n      <th>2</th>\n      <td>sanity.nearest_syn_neighbor_distance.mean</td>\n      <td>0.00</td>\n      <td>0.02</td>\n      <td>0.01</td>\n      <td>minimize</td>\n    </tr>\n    <tr>\n      <th>8</th>\n      <td>stats.ks_test.marginal</td>\n      <td>1.00</td>\n      <td>0.78</td>\n      <td>0.72</td>\n      <td>maximize</td>\n    </tr>\n    <tr>\n      <th>21</th>\n      <td>performance.linear_model.gt</td>\n      <td>0.79</td>\n      <td>0.79</td>\n      <td>0.79</td>\n      <td>maximize</td>\n    </tr>\n    <tr>\n      <th>24</th>\n      <td>performance.mlp.gt</td>\n      <td>0.50</td>\n      <td>0.50</td>\n      <td>0.50</td>\n      <td>maximize</td>\n    </tr>\n    <tr>\n      <th>27</th>\n      <td>performance.xgb.gt</td>\n      <td>0.87</td>\n      <td>0.87</td>\n      <td>0.87</td>\n      <td>maximize</td>\n    </tr>\n  </tbody>\n</table>\n</div>"
     },
     "execution_count": 68,
     "metadata": {},
     "output_type": "execute_result"
    }
   ],
   "source": [
    "# df1_filter = df1[[0, 'min', 'direction']]\n",
    "\n",
    "df1.iloc[:, 0]\n",
    "df2[\"alo\"] = df1[\"min\"]\n",
    "df2\n",
    "\n",
    "# df1_filte\n",
    "# final_df.rename(columns={'min': 'Real Data'}, inplace=True)\n",
    "# final_df.columns=[\"Metrics\", \"as\"]\n",
    "no_water_mark_df = pd.read_csv(\"/Users/minhkau/Documents/TUDelft/Year 3/RP/Code/tabular-gpt/evaluation/no_watermark_synthcity_result_1000.csv\")[[\"metrics\",\"min\"]]\n",
    "with_watermark_df = pd.read_csv(\"/Users/minhkau/Documents/TUDelft/Year 3/RP/Code/tabular-gpt/evaluation/with_watermark_synthcity_result_1000.csv\")[[\"metrics\",\"min\",\"direction\"]]\n",
    "real_df = pd.read_csv(\"/Users/minhkau/Documents/TUDelft/Year 3/RP/Code/tabular-gpt/evaluation/real_synthcity_result_1000.csv\")[[\"metrics\",\"min\"]]\n",
    "\n",
    "    # merged_result = pd.merge(dataset1_result, dataset2_result[['Unnamed: 0', 'min']], on='Unnamed: 0', suffixes=('_dataset1', '_dataset2'))\n",
    "\n",
    "\n",
    "merge_result = pd.merge(real_df, no_water_mark_df, on=\"metrics\", suffixes=(\"1\",\"2\"))\n",
    "merge_result_final = pd.merge(merge_result, with_watermark_df, on=\"metrics\", suffixes=(\"2\",\"3\"))\n",
    "merge_result_final.columns = [\"Metrics\", \"Real Data\", \"No-Watermark\", \"With-Watermark\", \"Direction\"]\n",
    "merge_result_final = merge_result_final.round(2)\n",
    "\n",
    "interested_metrics = [\n",
    " \"sanity.nearest_syn_neighbor_distance.mean\", \n",
    "    \"stats.ks_test.marginal\",\n",
    "    \"performance.linear_model.gt\",\n",
    "    \"performance.xgb.gt\",\n",
    "    \"performance.mlp.gt\"\n",
    "]\n",
    "rename_metrics = [\n",
    "    \"Nearest Neighbors Distance\",\n",
    "    \"KS test\"\n",
    "    \"Linear Model Performance\",\n",
    "    \"XGB Performance\",\n",
    "    \"MLP Performance\"\n",
    "]\n",
    "\n",
    "# Create a mapping dictionary from old names to new names\n",
    "# rename_map = dict(zip(interested_metrics, rename_metrics))\n",
    "\n",
    "\n",
    "# Display the updated DataFrame\n",
    "merge_result_final = merge_result_final.loc[merge_result_final[\"Metrics\"].isin(interested_metrics)]\n",
    "merge_result_final.to_csv(\"ditme.csv\")\n",
    "# for i in range(0, len(interested_metrics) - 1):\n",
    "#     merge_result_final.loc[merge_result_final[\"Metrics\"] == interested_metrics[i]] = rename_metrics[i]\n",
    "\n",
    "merge_result_final"
   ],
   "metadata": {
    "collapsed": false,
    "ExecuteTime": {
     "end_time": "2024-05-12T19:30:23.280188Z",
     "start_time": "2024-05-12T19:30:23.262343Z"
    }
   },
   "id": "9ff7570180c0bd9d",
   "execution_count": 68
  }
 ],
 "metadata": {
  "kernelspec": {
   "display_name": "Python 3",
   "language": "python",
   "name": "python3"
  },
  "language_info": {
   "codemirror_mode": {
    "name": "ipython",
    "version": 2
   },
   "file_extension": ".py",
   "mimetype": "text/x-python",
   "name": "python",
   "nbconvert_exporter": "python",
   "pygments_lexer": "ipython2",
   "version": "2.7.6"
  }
 },
 "nbformat": 4,
 "nbformat_minor": 5
}
