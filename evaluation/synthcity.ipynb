{
 "cells": [
  {
   "cell_type": "code",
   "outputs": [],
   "source": [
    "from synthcity.metrics.eval import Metrics\n",
    "import pandas as pd\n",
    "def synthcity_evaluate(real_path, syn_path, result_name, real_size, syn_size): \n",
    "    real_data = pd.read_csv(real_path)\n",
    "    syn_data = pd.read_csv(syn_path)\n",
    "    \n",
    "    if real_size < len(real_data):\n",
    "        real_data = real_data.sample(n=real_size, random_state=42)  # Adjust random_state as desired for reproducibility\n",
    "    if syn_size < len(syn_data):\n",
    "        syn_data = syn_data.sample(n=syn_size, random_state=42)\n",
    "    \n",
    "    synthcity_result = Metrics.evaluate(real_data, syn_data)\n",
    "    # synthcity_result.to_csv(result_name + \".csv\")\n",
    "    return synthcity_result\n",
    "    \n",
    "def compare_results(dataset1_result_path, dataset2_result_path):\n",
    "    dataset1_result = pd.read_csv(dataset1_result_path)[['Unnamed: 0', 'min', 'direction']]\n",
    "    dataset2_result = pd.read_csv(dataset2_result_path)[['Unnamed: 0', 'min', 'direction']]\n",
    "    \n",
    "    # Merge dataset1_result and dataset2_result based on the 'Unnamed: 0' column\n",
    "    merged_result = pd.merge(dataset1_result, dataset2_result[['Unnamed: 0', 'min']], on='Unnamed: 0', suffixes=('_dataset1', '_dataset2'))\n",
    "    \n",
    "    # Reorder columns in merged_result\n",
    "    # Get a list of columns excluding 'direction'\n",
    "    columns_reordered = [col for col in merged_result.columns if col != 'direction']\n",
    "    \n",
    "    # Append 'direction' column to the end of the list\n",
    "    columns_reordered.append('direction')\n",
    "    \n",
    "    # Reassign the DataFrame with reordered columns\n",
    "    merged_result = merged_result[columns_reordered]\n",
    "    return merged_result"
   ],
   "metadata": {
    "collapsed": false,
    "ExecuteTime": {
     "end_time": "2024-05-08T15:07:25.839987Z",
     "start_time": "2024-05-08T15:07:25.838291Z"
    }
   },
   "id": "362a13a900221b0e",
   "execution_count": 25
  },
  {
   "cell_type": "code",
   "outputs": [
    {
     "data": {
      "text/plain": "                                                    min       max      mean  \\\nstats.jensenshannon_dist.marginal              0.031316  0.031316  0.031316   \nstats.chi_squared_test.marginal                0.721909  0.721909  0.721909   \nstats.inv_kl_divergence.marginal               0.773009  0.773009  0.773009   \nstats.ks_test.marginal                         0.772067  0.772067  0.772067   \nperformance.linear_model.gt                    0.778130  0.778130  0.778130   \nperformance.linear_model.syn_id                0.000000  0.000000  0.000000   \nperformance.linear_model.syn_ood               0.000000  0.000000  0.000000   \nperformance.mlp.gt                             0.500000  0.500000  0.500000   \nperformance.mlp.syn_id                         0.000000  0.000000  0.000000   \nperformance.mlp.syn_ood                        0.000000  0.000000  0.000000   \nperformance.xgb.gt                             0.842486  0.842486  0.842486   \nperformance.xgb.syn_id                         0.000000  0.000000  0.000000   \nperformance.xgb.syn_ood                        0.000000  0.000000  0.000000   \nperformance.linear_model_augmentation.gt       0.778130  0.778130  0.778130   \nperformance.linear_model_augmentation.aug_ood  0.000000  0.000000  0.000000   \nperformance.mlp_augmentation.gt                0.500000  0.500000  0.500000   \nperformance.mlp_augmentation.aug_ood           0.000000  0.000000  0.000000   \nperformance.xgb_augmentation.gt                0.842486  0.842486  0.842486   \nperformance.xgb_augmentation.aug_ood           0.000000  0.000000  0.000000   \nprivacy.delta-presence.score                   2.928571  2.928571  2.928571   \nprivacy.k-anonymization.gt                     1.000000  1.000000  1.000000   \nprivacy.k-anonymization.syn                    2.000000  2.000000  2.000000   \nprivacy.k-map.score                            4.000000  4.000000  4.000000   \nprivacy.distinct l-diversity.gt                1.000000  1.000000  1.000000   \nprivacy.distinct l-diversity.syn               2.000000  2.000000  2.000000   \n\n                                               stddev    median  iqr rounds  \\\nstats.jensenshannon_dist.marginal                 0.0  0.031316  0.0      1   \nstats.chi_squared_test.marginal                   0.0  0.721909  0.0      1   \nstats.inv_kl_divergence.marginal                  0.0  0.773009  0.0      1   \nstats.ks_test.marginal                            0.0  0.772067  0.0      1   \nperformance.linear_model.gt                       0.0  0.778130  0.0      1   \nperformance.linear_model.syn_id                   0.0  0.000000  0.0      1   \nperformance.linear_model.syn_ood                  0.0  0.000000  0.0      1   \nperformance.mlp.gt                                0.0  0.500000  0.0      1   \nperformance.mlp.syn_id                            0.0  0.000000  0.0      1   \nperformance.mlp.syn_ood                           0.0  0.000000  0.0      1   \nperformance.xgb.gt                                0.0  0.842486  0.0      1   \nperformance.xgb.syn_id                            0.0  0.000000  0.0      1   \nperformance.xgb.syn_ood                           0.0  0.000000  0.0      1   \nperformance.linear_model_augmentation.gt          0.0  0.778130  0.0      1   \nperformance.linear_model_augmentation.aug_ood     0.0  0.000000  0.0      1   \nperformance.mlp_augmentation.gt                   0.0  0.500000  0.0      1   \nperformance.mlp_augmentation.aug_ood              0.0  0.000000  0.0      1   \nperformance.xgb_augmentation.gt                   0.0  0.842486  0.0      1   \nperformance.xgb_augmentation.aug_ood              0.0  0.000000  0.0      1   \nprivacy.delta-presence.score                      0.0  2.928571  0.0      1   \nprivacy.k-anonymization.gt                        0.0  1.000000  0.0      1   \nprivacy.k-anonymization.syn                       0.0  2.000000  0.0      1   \nprivacy.k-map.score                               0.0  4.000000  0.0      1   \nprivacy.distinct l-diversity.gt                   0.0  1.000000  0.0      1   \nprivacy.distinct l-diversity.syn                  0.0  2.000000  0.0      1   \n\n                                              errors  durations direction  \nstats.jensenshannon_dist.marginal                  0        0.0  minimize  \nstats.chi_squared_test.marginal                    0        0.0  maximize  \nstats.inv_kl_divergence.marginal                   0        0.0  maximize  \nstats.ks_test.marginal                             0        0.0  maximize  \nperformance.linear_model.gt                        0        0.0  maximize  \nperformance.linear_model.syn_id                    0        0.0  maximize  \nperformance.linear_model.syn_ood                   0        0.0  maximize  \nperformance.mlp.gt                                 0        0.0  maximize  \nperformance.mlp.syn_id                             0        0.0  maximize  \nperformance.mlp.syn_ood                            0        0.0  maximize  \nperformance.xgb.gt                                 0        0.0  maximize  \nperformance.xgb.syn_id                             0        0.0  maximize  \nperformance.xgb.syn_ood                            0        0.0  maximize  \nperformance.linear_model_augmentation.gt           0        0.0  maximize  \nperformance.linear_model_augmentation.aug_ood      0        0.0  maximize  \nperformance.mlp_augmentation.gt                    0        0.0  maximize  \nperformance.mlp_augmentation.aug_ood               0        0.0  maximize  \nperformance.xgb_augmentation.gt                    0        0.0  maximize  \nperformance.xgb_augmentation.aug_ood               0        0.0  maximize  \nprivacy.delta-presence.score                       0        0.0  maximize  \nprivacy.k-anonymization.gt                         0        0.0  maximize  \nprivacy.k-anonymization.syn                        0        0.0  maximize  \nprivacy.k-map.score                                0        0.0  maximize  \nprivacy.distinct l-diversity.gt                    0        0.0  maximize  \nprivacy.distinct l-diversity.syn                   0        0.0  maximize  ",
      "text/html": "<div>\n<style scoped>\n    .dataframe tbody tr th:only-of-type {\n        vertical-align: middle;\n    }\n\n    .dataframe tbody tr th {\n        vertical-align: top;\n    }\n\n    .dataframe thead th {\n        text-align: right;\n    }\n</style>\n<table border=\"1\" class=\"dataframe\">\n  <thead>\n    <tr style=\"text-align: right;\">\n      <th></th>\n      <th>min</th>\n      <th>max</th>\n      <th>mean</th>\n      <th>stddev</th>\n      <th>median</th>\n      <th>iqr</th>\n      <th>rounds</th>\n      <th>errors</th>\n      <th>durations</th>\n      <th>direction</th>\n    </tr>\n  </thead>\n  <tbody>\n    <tr>\n      <th>stats.jensenshannon_dist.marginal</th>\n      <td>0.031316</td>\n      <td>0.031316</td>\n      <td>0.031316</td>\n      <td>0.0</td>\n      <td>0.031316</td>\n      <td>0.0</td>\n      <td>1</td>\n      <td>0</td>\n      <td>0.0</td>\n      <td>minimize</td>\n    </tr>\n    <tr>\n      <th>stats.chi_squared_test.marginal</th>\n      <td>0.721909</td>\n      <td>0.721909</td>\n      <td>0.721909</td>\n      <td>0.0</td>\n      <td>0.721909</td>\n      <td>0.0</td>\n      <td>1</td>\n      <td>0</td>\n      <td>0.0</td>\n      <td>maximize</td>\n    </tr>\n    <tr>\n      <th>stats.inv_kl_divergence.marginal</th>\n      <td>0.773009</td>\n      <td>0.773009</td>\n      <td>0.773009</td>\n      <td>0.0</td>\n      <td>0.773009</td>\n      <td>0.0</td>\n      <td>1</td>\n      <td>0</td>\n      <td>0.0</td>\n      <td>maximize</td>\n    </tr>\n    <tr>\n      <th>stats.ks_test.marginal</th>\n      <td>0.772067</td>\n      <td>0.772067</td>\n      <td>0.772067</td>\n      <td>0.0</td>\n      <td>0.772067</td>\n      <td>0.0</td>\n      <td>1</td>\n      <td>0</td>\n      <td>0.0</td>\n      <td>maximize</td>\n    </tr>\n    <tr>\n      <th>performance.linear_model.gt</th>\n      <td>0.778130</td>\n      <td>0.778130</td>\n      <td>0.778130</td>\n      <td>0.0</td>\n      <td>0.778130</td>\n      <td>0.0</td>\n      <td>1</td>\n      <td>0</td>\n      <td>0.0</td>\n      <td>maximize</td>\n    </tr>\n    <tr>\n      <th>performance.linear_model.syn_id</th>\n      <td>0.000000</td>\n      <td>0.000000</td>\n      <td>0.000000</td>\n      <td>0.0</td>\n      <td>0.000000</td>\n      <td>0.0</td>\n      <td>1</td>\n      <td>0</td>\n      <td>0.0</td>\n      <td>maximize</td>\n    </tr>\n    <tr>\n      <th>performance.linear_model.syn_ood</th>\n      <td>0.000000</td>\n      <td>0.000000</td>\n      <td>0.000000</td>\n      <td>0.0</td>\n      <td>0.000000</td>\n      <td>0.0</td>\n      <td>1</td>\n      <td>0</td>\n      <td>0.0</td>\n      <td>maximize</td>\n    </tr>\n    <tr>\n      <th>performance.mlp.gt</th>\n      <td>0.500000</td>\n      <td>0.500000</td>\n      <td>0.500000</td>\n      <td>0.0</td>\n      <td>0.500000</td>\n      <td>0.0</td>\n      <td>1</td>\n      <td>0</td>\n      <td>0.0</td>\n      <td>maximize</td>\n    </tr>\n    <tr>\n      <th>performance.mlp.syn_id</th>\n      <td>0.000000</td>\n      <td>0.000000</td>\n      <td>0.000000</td>\n      <td>0.0</td>\n      <td>0.000000</td>\n      <td>0.0</td>\n      <td>1</td>\n      <td>0</td>\n      <td>0.0</td>\n      <td>maximize</td>\n    </tr>\n    <tr>\n      <th>performance.mlp.syn_ood</th>\n      <td>0.000000</td>\n      <td>0.000000</td>\n      <td>0.000000</td>\n      <td>0.0</td>\n      <td>0.000000</td>\n      <td>0.0</td>\n      <td>1</td>\n      <td>0</td>\n      <td>0.0</td>\n      <td>maximize</td>\n    </tr>\n    <tr>\n      <th>performance.xgb.gt</th>\n      <td>0.842486</td>\n      <td>0.842486</td>\n      <td>0.842486</td>\n      <td>0.0</td>\n      <td>0.842486</td>\n      <td>0.0</td>\n      <td>1</td>\n      <td>0</td>\n      <td>0.0</td>\n      <td>maximize</td>\n    </tr>\n    <tr>\n      <th>performance.xgb.syn_id</th>\n      <td>0.000000</td>\n      <td>0.000000</td>\n      <td>0.000000</td>\n      <td>0.0</td>\n      <td>0.000000</td>\n      <td>0.0</td>\n      <td>1</td>\n      <td>0</td>\n      <td>0.0</td>\n      <td>maximize</td>\n    </tr>\n    <tr>\n      <th>performance.xgb.syn_ood</th>\n      <td>0.000000</td>\n      <td>0.000000</td>\n      <td>0.000000</td>\n      <td>0.0</td>\n      <td>0.000000</td>\n      <td>0.0</td>\n      <td>1</td>\n      <td>0</td>\n      <td>0.0</td>\n      <td>maximize</td>\n    </tr>\n    <tr>\n      <th>performance.linear_model_augmentation.gt</th>\n      <td>0.778130</td>\n      <td>0.778130</td>\n      <td>0.778130</td>\n      <td>0.0</td>\n      <td>0.778130</td>\n      <td>0.0</td>\n      <td>1</td>\n      <td>0</td>\n      <td>0.0</td>\n      <td>maximize</td>\n    </tr>\n    <tr>\n      <th>performance.linear_model_augmentation.aug_ood</th>\n      <td>0.000000</td>\n      <td>0.000000</td>\n      <td>0.000000</td>\n      <td>0.0</td>\n      <td>0.000000</td>\n      <td>0.0</td>\n      <td>1</td>\n      <td>0</td>\n      <td>0.0</td>\n      <td>maximize</td>\n    </tr>\n    <tr>\n      <th>performance.mlp_augmentation.gt</th>\n      <td>0.500000</td>\n      <td>0.500000</td>\n      <td>0.500000</td>\n      <td>0.0</td>\n      <td>0.500000</td>\n      <td>0.0</td>\n      <td>1</td>\n      <td>0</td>\n      <td>0.0</td>\n      <td>maximize</td>\n    </tr>\n    <tr>\n      <th>performance.mlp_augmentation.aug_ood</th>\n      <td>0.000000</td>\n      <td>0.000000</td>\n      <td>0.000000</td>\n      <td>0.0</td>\n      <td>0.000000</td>\n      <td>0.0</td>\n      <td>1</td>\n      <td>0</td>\n      <td>0.0</td>\n      <td>maximize</td>\n    </tr>\n    <tr>\n      <th>performance.xgb_augmentation.gt</th>\n      <td>0.842486</td>\n      <td>0.842486</td>\n      <td>0.842486</td>\n      <td>0.0</td>\n      <td>0.842486</td>\n      <td>0.0</td>\n      <td>1</td>\n      <td>0</td>\n      <td>0.0</td>\n      <td>maximize</td>\n    </tr>\n    <tr>\n      <th>performance.xgb_augmentation.aug_ood</th>\n      <td>0.000000</td>\n      <td>0.000000</td>\n      <td>0.000000</td>\n      <td>0.0</td>\n      <td>0.000000</td>\n      <td>0.0</td>\n      <td>1</td>\n      <td>0</td>\n      <td>0.0</td>\n      <td>maximize</td>\n    </tr>\n    <tr>\n      <th>privacy.delta-presence.score</th>\n      <td>2.928571</td>\n      <td>2.928571</td>\n      <td>2.928571</td>\n      <td>0.0</td>\n      <td>2.928571</td>\n      <td>0.0</td>\n      <td>1</td>\n      <td>0</td>\n      <td>0.0</td>\n      <td>maximize</td>\n    </tr>\n    <tr>\n      <th>privacy.k-anonymization.gt</th>\n      <td>1.000000</td>\n      <td>1.000000</td>\n      <td>1.000000</td>\n      <td>0.0</td>\n      <td>1.000000</td>\n      <td>0.0</td>\n      <td>1</td>\n      <td>0</td>\n      <td>0.0</td>\n      <td>maximize</td>\n    </tr>\n    <tr>\n      <th>privacy.k-anonymization.syn</th>\n      <td>2.000000</td>\n      <td>2.000000</td>\n      <td>2.000000</td>\n      <td>0.0</td>\n      <td>2.000000</td>\n      <td>0.0</td>\n      <td>1</td>\n      <td>0</td>\n      <td>0.0</td>\n      <td>maximize</td>\n    </tr>\n    <tr>\n      <th>privacy.k-map.score</th>\n      <td>4.000000</td>\n      <td>4.000000</td>\n      <td>4.000000</td>\n      <td>0.0</td>\n      <td>4.000000</td>\n      <td>0.0</td>\n      <td>1</td>\n      <td>0</td>\n      <td>0.0</td>\n      <td>maximize</td>\n    </tr>\n    <tr>\n      <th>privacy.distinct l-diversity.gt</th>\n      <td>1.000000</td>\n      <td>1.000000</td>\n      <td>1.000000</td>\n      <td>0.0</td>\n      <td>1.000000</td>\n      <td>0.0</td>\n      <td>1</td>\n      <td>0</td>\n      <td>0.0</td>\n      <td>maximize</td>\n    </tr>\n    <tr>\n      <th>privacy.distinct l-diversity.syn</th>\n      <td>2.000000</td>\n      <td>2.000000</td>\n      <td>2.000000</td>\n      <td>0.0</td>\n      <td>2.000000</td>\n      <td>0.0</td>\n      <td>1</td>\n      <td>0</td>\n      <td>0.0</td>\n      <td>maximize</td>\n    </tr>\n  </tbody>\n</table>\n</div>"
     },
     "execution_count": 32,
     "metadata": {},
     "output_type": "execute_result"
    }
   ],
   "source": [
    "super_original_adult_path = \"/Users/minhkau/Documents/TUDelft/Year 3/RP/Code/tabular-gpt/be_greater/datasets/adult.csv\"\n",
    "\n",
    "synthcity_evaluate(\n",
    "    real_path=super_original_adult_path,\n",
    "    syn_path = \"/Users/minhkau/Documents/TUDelft/Year 3/RP/Code/tabular-gpt/evaluation/adult_samples_20k.csv\",\n",
    "    result_name=\"adult_no_watermark_20k\",\n",
    "    real_size=20000,\n",
    "    syn_size=1000,\n",
    ")"
   ],
   "metadata": {
    "collapsed": false,
    "ExecuteTime": {
     "end_time": "2024-05-08T15:11:08.551580Z",
     "start_time": "2024-05-08T15:11:07.927662Z"
    }
   },
   "id": "41973008bd393f9e",
   "execution_count": 32
  },
  {
   "cell_type": "code",
   "outputs": [
    {
     "data": {
      "text/plain": "                                       Unnamed: 0  min_dataset1  min_dataset2  \\\n0                     performance.linear_model.gt      0.801253      0.774909   \n1                 performance.linear_model.syn_id      0.797017      0.000000   \n2                performance.linear_model.syn_ood      0.796115      0.000000   \n3                              performance.mlp.gt      0.000000      0.500000   \n4                          performance.mlp.syn_id      0.000000      0.000000   \n5                         performance.mlp.syn_ood      0.000000      0.000000   \n6                              performance.xgb.gt      0.903536      0.833471   \n7                          performance.xgb.syn_id      0.891204      0.000000   \n8                         performance.xgb.syn_ood      0.890805      0.000000   \n9        performance.linear_model_augmentation.gt      0.801253      0.774909   \n10  performance.linear_model_augmentation.aug_ood      0.796115      0.000000   \n11                performance.mlp_augmentation.gt      0.000000      0.500000   \n12           performance.mlp_augmentation.aug_ood      0.000000      0.000000   \n13                performance.xgb_augmentation.gt      0.903536      0.833471   \n14           performance.xgb_augmentation.aug_ood      0.890805      0.000000   \n15                     privacy.k-anonymization.gt      8.000000      1.000000   \n16                    privacy.k-anonymization.syn      3.000000      2.000000   \n17                privacy.distinct l-diversity.gt      8.000000      1.000000   \n18               privacy.distinct l-diversity.syn      3.000000      2.000000   \n\n   direction  \n0   maximize  \n1   maximize  \n2   maximize  \n3   maximize  \n4   maximize  \n5   maximize  \n6   maximize  \n7   maximize  \n8   maximize  \n9   maximize  \n10  maximize  \n11  maximize  \n12  maximize  \n13  maximize  \n14  maximize  \n15  maximize  \n16  maximize  \n17  maximize  \n18  maximize  ",
      "text/html": "<div>\n<style scoped>\n    .dataframe tbody tr th:only-of-type {\n        vertical-align: middle;\n    }\n\n    .dataframe tbody tr th {\n        vertical-align: top;\n    }\n\n    .dataframe thead th {\n        text-align: right;\n    }\n</style>\n<table border=\"1\" class=\"dataframe\">\n  <thead>\n    <tr style=\"text-align: right;\">\n      <th></th>\n      <th>Unnamed: 0</th>\n      <th>min_dataset1</th>\n      <th>min_dataset2</th>\n      <th>direction</th>\n    </tr>\n  </thead>\n  <tbody>\n    <tr>\n      <th>0</th>\n      <td>performance.linear_model.gt</td>\n      <td>0.801253</td>\n      <td>0.774909</td>\n      <td>maximize</td>\n    </tr>\n    <tr>\n      <th>1</th>\n      <td>performance.linear_model.syn_id</td>\n      <td>0.797017</td>\n      <td>0.000000</td>\n      <td>maximize</td>\n    </tr>\n    <tr>\n      <th>2</th>\n      <td>performance.linear_model.syn_ood</td>\n      <td>0.796115</td>\n      <td>0.000000</td>\n      <td>maximize</td>\n    </tr>\n    <tr>\n      <th>3</th>\n      <td>performance.mlp.gt</td>\n      <td>0.000000</td>\n      <td>0.500000</td>\n      <td>maximize</td>\n    </tr>\n    <tr>\n      <th>4</th>\n      <td>performance.mlp.syn_id</td>\n      <td>0.000000</td>\n      <td>0.000000</td>\n      <td>maximize</td>\n    </tr>\n    <tr>\n      <th>5</th>\n      <td>performance.mlp.syn_ood</td>\n      <td>0.000000</td>\n      <td>0.000000</td>\n      <td>maximize</td>\n    </tr>\n    <tr>\n      <th>6</th>\n      <td>performance.xgb.gt</td>\n      <td>0.903536</td>\n      <td>0.833471</td>\n      <td>maximize</td>\n    </tr>\n    <tr>\n      <th>7</th>\n      <td>performance.xgb.syn_id</td>\n      <td>0.891204</td>\n      <td>0.000000</td>\n      <td>maximize</td>\n    </tr>\n    <tr>\n      <th>8</th>\n      <td>performance.xgb.syn_ood</td>\n      <td>0.890805</td>\n      <td>0.000000</td>\n      <td>maximize</td>\n    </tr>\n    <tr>\n      <th>9</th>\n      <td>performance.linear_model_augmentation.gt</td>\n      <td>0.801253</td>\n      <td>0.774909</td>\n      <td>maximize</td>\n    </tr>\n    <tr>\n      <th>10</th>\n      <td>performance.linear_model_augmentation.aug_ood</td>\n      <td>0.796115</td>\n      <td>0.000000</td>\n      <td>maximize</td>\n    </tr>\n    <tr>\n      <th>11</th>\n      <td>performance.mlp_augmentation.gt</td>\n      <td>0.000000</td>\n      <td>0.500000</td>\n      <td>maximize</td>\n    </tr>\n    <tr>\n      <th>12</th>\n      <td>performance.mlp_augmentation.aug_ood</td>\n      <td>0.000000</td>\n      <td>0.000000</td>\n      <td>maximize</td>\n    </tr>\n    <tr>\n      <th>13</th>\n      <td>performance.xgb_augmentation.gt</td>\n      <td>0.903536</td>\n      <td>0.833471</td>\n      <td>maximize</td>\n    </tr>\n    <tr>\n      <th>14</th>\n      <td>performance.xgb_augmentation.aug_ood</td>\n      <td>0.890805</td>\n      <td>0.000000</td>\n      <td>maximize</td>\n    </tr>\n    <tr>\n      <th>15</th>\n      <td>privacy.k-anonymization.gt</td>\n      <td>8.000000</td>\n      <td>1.000000</td>\n      <td>maximize</td>\n    </tr>\n    <tr>\n      <th>16</th>\n      <td>privacy.k-anonymization.syn</td>\n      <td>3.000000</td>\n      <td>2.000000</td>\n      <td>maximize</td>\n    </tr>\n    <tr>\n      <th>17</th>\n      <td>privacy.distinct l-diversity.gt</td>\n      <td>8.000000</td>\n      <td>1.000000</td>\n      <td>maximize</td>\n    </tr>\n    <tr>\n      <th>18</th>\n      <td>privacy.distinct l-diversity.syn</td>\n      <td>3.000000</td>\n      <td>2.000000</td>\n      <td>maximize</td>\n    </tr>\n  </tbody>\n</table>\n</div>"
     },
     "execution_count": 16,
     "metadata": {},
     "output_type": "execute_result"
    }
   ],
   "source": [
    "compare_results(\n",
    "    dataset1_result_path= \"/Users/minhkau/Documents/TUDelft/Year 3/RP/Code/tabular-gpt/evaluation/synthcity_result_20k.csv\",\n",
    "    dataset2_result_path= \"/Users/minhkau/Documents/TUDelft/Year 3/RP/Code/tabular-gpt/evaluation/great_watermarked_1000_eval_result.csv\",\n",
    ")"
   ],
   "metadata": {
    "collapsed": false,
    "ExecuteTime": {
     "end_time": "2024-05-08T14:58:45.131697Z",
     "start_time": "2024-05-08T14:58:45.118419Z"
    }
   },
   "id": "f6d297ae3ea90568",
   "execution_count": 16
  },
  {
   "cell_type": "code",
   "outputs": [],
   "source": [],
   "metadata": {
    "collapsed": false
   },
   "id": "73d11683c0b357f4"
  }
 ],
 "metadata": {
  "kernelspec": {
   "display_name": "Python 3",
   "language": "python",
   "name": "python3"
  },
  "language_info": {
   "codemirror_mode": {
    "name": "ipython",
    "version": 2
   },
   "file_extension": ".py",
   "mimetype": "text/x-python",
   "name": "python",
   "nbconvert_exporter": "python",
   "pygments_lexer": "ipython2",
   "version": "2.7.6"
  }
 },
 "nbformat": 4,
 "nbformat_minor": 5
}
