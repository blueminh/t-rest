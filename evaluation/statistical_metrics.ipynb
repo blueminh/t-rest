{
 "cells": [
  {
   "cell_type": "code",
   "execution_count": 5,
   "id": "initial_id",
   "metadata": {
    "collapsed": true,
    "ExecuteTime": {
     "end_time": "2024-05-03T20:48:52.982994Z",
     "start_time": "2024-05-03T20:48:52.920153Z"
    }
   },
   "outputs": [],
   "source": [
    "import sdmetrics\n",
    "import pandas as pd\n",
    "\n",
    "real_data = pd.read_csv(\"/Users/minhkau/Documents/TUDelft/Year 3/RP/Code/tabular-gpt/be_greater/datasets/adult.csv\")\n",
    "synthetic_data = pd.read_csv(\"/Users/minhkau/Documents/TUDelft/Year 3/RP/Code/tabular-gpt/be_greater/results/adult.structured.csv\")\n",
    "\n",
    "\n",
    "def get_metadata(df):\n",
    "    metadata = {\n",
    "        'METADATA_SPEC_VERSION': 'SINGLE_TABLE_V1',\n",
    "        'columns': {}\n",
    "    }\n",
    "    \n",
    "    # Iterate over DataFrame columns\n",
    "    for column_name, dtype in df.dtypes.items():\n",
    "        col_metadata = {\n",
    "            'sdtype': 'numerical' if pd.api.types.is_numeric_dtype(dtype) else 'categorical'\n",
    "        }\n",
    "    \n",
    "        # Add additional attributes based on column type\n",
    "        if pd.api.types.is_float_dtype(dtype):\n",
    "            col_metadata['computer_representation'] = 'Float'\n",
    "        elif pd.api.types.is_integer_dtype(dtype):\n",
    "            col_metadata['computer_representation'] = 'Int64'\n",
    "        elif pd.api.types.is_datetime64_any_dtype(dtype):\n",
    "            col_metadata['datetime_format'] = '%Y-%m-%d'\n",
    "        elif pd.api.types.is_string_dtype(dtype):\n",
    "            col_metadata['sdtype'] = 'id' if column_name == 'student_id' else 'categorical'\n",
    "            col_metadata['regex_format'] = '\\\\d{30}' if column_name == 'student_id' else None\n",
    "        elif pd.api.types.is_bool_dtype(dtype):\n",
    "            col_metadata['sdtype'] = 'boolean'\n",
    "        # Store column metadata\n",
    "        metadata['columns'][column_name] = col_metadata \n",
    "    return metadata"
   ]
  },
  {
   "cell_type": "code",
   "outputs": [
    {
     "name": "stdout",
     "output_type": "stream",
     "text": [
      "Generating report ...\n",
      "\n",
      "(1/2) Evaluating Data Validity: |██████████| 15/15 [00:00<00:00, 384.66it/s]|\n",
      "Data Validity Score: 100.0%\n",
      "\n",
      "(2/2) Evaluating Data Structure: |██████████| 1/1 [00:00<00:00, 756.41it/s]|\n",
      "Data Structure Score: 100.0%\n",
      "\n",
      "Overall Score (Average): 100.0%\n"
     ]
    }
   ],
   "source": [
    "from sdmetrics.reports.single_table import DiagnosticReport\n",
    "\n",
    "\n",
    "metadata = get_metadata(real_data)\n",
    "diagnostic = DiagnosticReport()\n",
    "diagnostic.generate(real_data, synthetic_data, metadata)\n"
   ],
   "metadata": {
    "collapsed": false,
    "ExecuteTime": {
     "end_time": "2024-05-03T20:54:30.832355Z",
     "start_time": "2024-05-03T20:54:30.781763Z"
    }
   },
   "id": "eae55ed3607002df",
   "execution_count": 18
  },
  {
   "cell_type": "code",
   "outputs": [
    {
     "name": "stdout",
     "output_type": "stream",
     "text": [
      "Generating report ...\n",
      "\n",
      "(1/2) Evaluating Column Shapes: |██████████| 15/15 [00:00<00:00, 165.44it/s]|\n",
      "Column Shapes Score: 90.55%\n",
      "\n",
      "(2/2) Evaluating Column Pair Trends: |██████████| 105/105 [00:01<00:00, 67.22it/s]|\n",
      "Column Pair Trends Score: 68.44%\n",
      "\n",
      "Overall Score (Average): 79.49%\n"
     ]
    }
   ],
   "source": [
    "from sdmetrics.reports.single_table import QualityReport\n",
    "\n",
    "quality_report = QualityReport()\n",
    "quality_report.generate(real_data, synthetic_data, metadata)"
   ],
   "metadata": {
    "collapsed": false,
    "ExecuteTime": {
     "end_time": "2024-05-03T20:54:34.130499Z",
     "start_time": "2024-05-03T20:54:32.468265Z"
    }
   },
   "id": "f6c404bd129be4c7",
   "execution_count": 19
  },
  {
   "cell_type": "code",
   "outputs": [
    {
     "data": {
      "text/html": "<iframe\n    scrolling=\"no\"\n    width=\"100%\"\n    height=\"545px\"\n    src=\"iframe_figures/figure_20.html\"\n    frameborder=\"0\"\n    allowfullscreen\n></iframe>\n"
     },
     "metadata": {},
     "output_type": "display_data"
    }
   ],
   "source": [
    "from sdmetrics.visualization import get_column_plot\n",
    "\n",
    "fig = get_column_plot(\n",
    "    real_data=real_data,\n",
    "    synthetic_data=synthetic_data,\n",
    "    column_name='age',\n",
    ")\n",
    "\n",
    "fig.show()"
   ],
   "metadata": {
    "collapsed": false,
    "ExecuteTime": {
     "end_time": "2024-05-03T20:54:35.863075Z",
     "start_time": "2024-05-03T20:54:35.582286Z"
    }
   },
   "id": "f71ed375d0b2433b",
   "execution_count": 20
  },
  {
   "cell_type": "code",
   "outputs": [
    {
     "data": {
      "text/html": "<iframe\n    scrolling=\"no\"\n    width=\"100%\"\n    height=\"545px\"\n    src=\"iframe_figures/figure_17.html\"\n    frameborder=\"0\"\n    allowfullscreen\n></iframe>\n"
     },
     "metadata": {},
     "output_type": "display_data"
    }
   ],
   "source": [
    "from sdmetrics.visualization import get_column_pair_plot\n",
    "\n",
    "fig = get_column_pair_plot(\n",
    "    real_data=real_data,\n",
    "    synthetic_data=synthetic_data,\n",
    "    column_names=[\"age\", \"workclass\"],\n",
    ")\n",
    "\n",
    "fig.show()\n",
    "\n"
   ],
   "metadata": {
    "collapsed": false,
    "ExecuteTime": {
     "end_time": "2024-05-03T20:54:07.285957Z",
     "start_time": "2024-05-03T20:54:07.190032Z"
    }
   },
   "id": "c4df70cc0e5510f0",
   "execution_count": 17
  },
  {
   "cell_type": "code",
   "outputs": [
    {
     "data": {
      "text/html": "<iframe\n    scrolling=\"no\"\n    width=\"920px\"\n    height=\"920\"\n    src=\"iframe_figures/figure_21.html\"\n    frameborder=\"0\"\n    allowfullscreen\n></iframe>\n"
     },
     "metadata": {},
     "output_type": "display_data"
    }
   ],
   "source": [
    "quality_report.get_visualization('Column Pair Trends')\n"
   ],
   "metadata": {
    "collapsed": false,
    "ExecuteTime": {
     "end_time": "2024-05-03T20:56:40.361337Z",
     "start_time": "2024-05-03T20:56:40.271349Z"
    }
   },
   "id": "7680f258d5802610",
   "execution_count": 21
  },
  {
   "cell_type": "code",
   "outputs": [],
   "source": [
    "quality = quality_report.get_properties()\n",
    "Shape = quality['Score'][0]\n",
    "Trend = quality['Score'][1]\n",
    "\n",
    "save_dir = \"/Users/minhkau/Documents/TUDelft/Year 3/RP/Code/tabular-gpt/evaluation\"\n",
    "\n",
    "with open(f'{save_dir}/quality.txt', 'w') as f:\n",
    "    f.write(f'{Shape}\\n')\n",
    "    f.write(f'{Trend}\\n')\n",
    "\n",
    "Quality = (Shape + Trend) / 2\n",
    "\n",
    "shapes = quality_report.get_details(property_name='Column Shapes')\n",
    "trends = quality_report.get_details(property_name='Column Pair Trends')\n",
    "# coverages = diagnostic.get_details('Coverage')\n",
    "\n",
    "\n",
    "shapes.to_csv(f'{save_dir}/shape.csv')\n",
    "trends.to_csv(f'{save_dir}/trend.csv')\n",
    "# coverages.to_csv(f'{save_dir}/coverage.csv')"
   ],
   "metadata": {
    "collapsed": false,
    "ExecuteTime": {
     "end_time": "2024-05-03T21:01:27.310552Z",
     "start_time": "2024-05-03T21:01:27.300561Z"
    }
   },
   "id": "845c1c06867e999a",
   "execution_count": 23
  }
 ],
 "metadata": {
  "kernelspec": {
   "display_name": "Python 3",
   "language": "python",
   "name": "python3"
  },
  "language_info": {
   "codemirror_mode": {
    "name": "ipython",
    "version": 2
   },
   "file_extension": ".py",
   "mimetype": "text/x-python",
   "name": "python",
   "nbconvert_exporter": "python",
   "pygments_lexer": "ipython2",
   "version": "2.7.6"
  }
 },
 "nbformat": 4,
 "nbformat_minor": 5
}
