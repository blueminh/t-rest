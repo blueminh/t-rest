{
 "nbformat": 4,
 "nbformat_minor": 0,
 "metadata": {
  "colab": {
   "provenance": [],
   "toc_visible": true
  },
  "kernelspec": {
   "name": "python3",
   "language": "python",
   "display_name": "Python 3 (ipykernel)"
  },
  "language_info": {
   "name": "python"
  }
 },
 "cells": [
  {
   "cell_type": "markdown",
   "source": [
    "\n",
    "**Welcome to the SDMetrics library!** SDMetrics (Synthetic Data Metrics) is an open source Python library for evaluating synthetic data.\n",
    "\n",
    "In this notebook, we compare some real and synthetic demo data using SDMetrics. Along the way, we'll generate a shareable report, use it to discover some insights and create visual graphics."
   ],
   "metadata": {
    "id": "pss_xx3HseNG"
   }
  },
  {
   "cell_type": "markdown",
   "source": [
    "# Installing SDMetrics\n",
    "\n",
    "You can get started with SDMetrics by running the code in this notebook. SDMetrics is available under the MIT License.\n",
    "\n",
    "The command below will install the latest `sdmetrics` Python package."
   ],
   "metadata": {
    "id": "ShN1bryOsguY"
   }
  },
  {
   "cell_type": "code",
   "execution_count": null,
   "metadata": {
    "id": "KAl_daaQsQF3"
   },
   "outputs": [],
   "source": [
    "%pip install sdmetrics"
   ]
  },
  {
   "cell_type": "code",
   "source": [
    "import sdmetrics\n",
    "\n",
    "print(sdmetrics.__version__)"
   ],
   "metadata": {
    "colab": {
     "base_uri": "https://localhost:8080/"
    },
    "id": "lLsJzXUvsWIo",
    "outputId": "03053699-14ef-4819-8a9d-e4499d87262a",
    "ExecuteTime": {
     "end_time": "2024-05-03T21:12:23.523416Z",
     "start_time": "2024-05-03T21:12:23.518640Z"
    }
   },
   "execution_count": 9,
   "outputs": [
    {
     "name": "stdout",
     "output_type": "stream",
     "text": [
      "0.14.0\n"
     ]
    }
   ]
  },
  {
   "cell_type": "markdown",
   "source": [
    "# Loading the data\n",
    "\n",
    "SDMetrics is **model-agnostic**, which means that it works with synthetic data created by any model at any time.\n",
    "\n",
    "To get started, you need:\n",
    "\n",
    "1. The real data, represented as a pandas.DataFrame\n",
    "2. Your synthetic data, represented as a pandas.DataFrame\n",
    "3. [Metadata](https://docs.sdv.dev/sdmetrics/getting-started/metadata), represented as a dictionary\n",
    "\n",
    "The command below downloads some demo data and metadata that we can use."
   ],
   "metadata": {
    "id": "nU92vD_AslAX"
   }
  },
  {
   "cell_type": "code",
   "source": [
    "from sdmetrics import load_demo\n",
    "\n",
    "real_data, synthetic_data, metadata = load_demo(modality='single_table')"
   ],
   "metadata": {
    "id": "izx70tffsjKb",
    "ExecuteTime": {
     "end_time": "2024-05-03T21:12:24.964474Z",
     "start_time": "2024-05-03T21:12:24.951310Z"
    }
   },
   "execution_count": 10,
   "outputs": []
  },
  {
   "cell_type": "markdown",
   "source": [
    "Both the real and synthetic data describe different students. They have the same column names."
   ],
   "metadata": {
    "id": "rIDSC739sotd"
   }
  },
  {
   "cell_type": "code",
   "source": [
    "real_data.head()"
   ],
   "metadata": {
    "colab": {
     "base_uri": "https://localhost:8080/",
     "height": 296
    },
    "id": "mI3Az4wAsnMM",
    "outputId": "2297bee1-4648-4cc5-a0cd-43ea89e1fb9d",
    "ExecuteTime": {
     "end_time": "2024-05-03T21:12:27.132312Z",
     "start_time": "2024-05-03T21:12:27.125967Z"
    }
   },
   "execution_count": 11,
   "outputs": [
    {
     "data": {
      "text/plain": "   student_id gender  second_perc  high_perc high_spec  degree_perc   \n0       17264      M        67.00      91.00  Commerce        58.00  \\\n1       17265      M        79.33      78.33   Science        77.48   \n2       17266      M        65.00      68.00      Arts        64.00   \n3       17267      M        56.00      52.00   Science        52.00   \n4       17268      M        85.80      73.60  Commerce        73.30   \n\n  degree_type  work_experience  experience_years  employability_perc mba_spec   \n0    Sci&Tech            False                 0                55.0   Mkt&HR  \\\n1    Sci&Tech             True                 1                86.5  Mkt&Fin   \n2   Comm&Mgmt            False                 0                75.0  Mkt&Fin   \n3    Sci&Tech            False                 0                66.0   Mkt&HR   \n4   Comm&Mgmt            False                 0                96.8  Mkt&Fin   \n\n   mba_perc   salary  placed start_date   end_date  duration  \n0     58.80  27000.0    True 2020-07-23 2020-10-12       3.0  \n1     66.28  20000.0    True 2020-01-11 2020-04-09       3.0  \n2     57.80  25000.0    True 2020-01-26 2020-07-13       6.0  \n3     59.43      NaN   False        NaT        NaT       NaN  \n4     55.50  42500.0    True 2020-07-04 2020-09-27       3.0  ",
      "text/html": "<div>\n<style scoped>\n    .dataframe tbody tr th:only-of-type {\n        vertical-align: middle;\n    }\n\n    .dataframe tbody tr th {\n        vertical-align: top;\n    }\n\n    .dataframe thead th {\n        text-align: right;\n    }\n</style>\n<table border=\"1\" class=\"dataframe\">\n  <thead>\n    <tr style=\"text-align: right;\">\n      <th></th>\n      <th>student_id</th>\n      <th>gender</th>\n      <th>second_perc</th>\n      <th>high_perc</th>\n      <th>high_spec</th>\n      <th>degree_perc</th>\n      <th>degree_type</th>\n      <th>work_experience</th>\n      <th>experience_years</th>\n      <th>employability_perc</th>\n      <th>mba_spec</th>\n      <th>mba_perc</th>\n      <th>salary</th>\n      <th>placed</th>\n      <th>start_date</th>\n      <th>end_date</th>\n      <th>duration</th>\n    </tr>\n  </thead>\n  <tbody>\n    <tr>\n      <th>0</th>\n      <td>17264</td>\n      <td>M</td>\n      <td>67.00</td>\n      <td>91.00</td>\n      <td>Commerce</td>\n      <td>58.00</td>\n      <td>Sci&amp;Tech</td>\n      <td>False</td>\n      <td>0</td>\n      <td>55.0</td>\n      <td>Mkt&amp;HR</td>\n      <td>58.80</td>\n      <td>27000.0</td>\n      <td>True</td>\n      <td>2020-07-23</td>\n      <td>2020-10-12</td>\n      <td>3.0</td>\n    </tr>\n    <tr>\n      <th>1</th>\n      <td>17265</td>\n      <td>M</td>\n      <td>79.33</td>\n      <td>78.33</td>\n      <td>Science</td>\n      <td>77.48</td>\n      <td>Sci&amp;Tech</td>\n      <td>True</td>\n      <td>1</td>\n      <td>86.5</td>\n      <td>Mkt&amp;Fin</td>\n      <td>66.28</td>\n      <td>20000.0</td>\n      <td>True</td>\n      <td>2020-01-11</td>\n      <td>2020-04-09</td>\n      <td>3.0</td>\n    </tr>\n    <tr>\n      <th>2</th>\n      <td>17266</td>\n      <td>M</td>\n      <td>65.00</td>\n      <td>68.00</td>\n      <td>Arts</td>\n      <td>64.00</td>\n      <td>Comm&amp;Mgmt</td>\n      <td>False</td>\n      <td>0</td>\n      <td>75.0</td>\n      <td>Mkt&amp;Fin</td>\n      <td>57.80</td>\n      <td>25000.0</td>\n      <td>True</td>\n      <td>2020-01-26</td>\n      <td>2020-07-13</td>\n      <td>6.0</td>\n    </tr>\n    <tr>\n      <th>3</th>\n      <td>17267</td>\n      <td>M</td>\n      <td>56.00</td>\n      <td>52.00</td>\n      <td>Science</td>\n      <td>52.00</td>\n      <td>Sci&amp;Tech</td>\n      <td>False</td>\n      <td>0</td>\n      <td>66.0</td>\n      <td>Mkt&amp;HR</td>\n      <td>59.43</td>\n      <td>NaN</td>\n      <td>False</td>\n      <td>NaT</td>\n      <td>NaT</td>\n      <td>NaN</td>\n    </tr>\n    <tr>\n      <th>4</th>\n      <td>17268</td>\n      <td>M</td>\n      <td>85.80</td>\n      <td>73.60</td>\n      <td>Commerce</td>\n      <td>73.30</td>\n      <td>Comm&amp;Mgmt</td>\n      <td>False</td>\n      <td>0</td>\n      <td>96.8</td>\n      <td>Mkt&amp;Fin</td>\n      <td>55.50</td>\n      <td>42500.0</td>\n      <td>True</td>\n      <td>2020-07-04</td>\n      <td>2020-09-27</td>\n      <td>3.0</td>\n    </tr>\n  </tbody>\n</table>\n</div>"
     },
     "execution_count": 11,
     "metadata": {},
     "output_type": "execute_result"
    }
   ]
  },
  {
   "cell_type": "code",
   "source": [
    "synthetic_data.head()"
   ],
   "metadata": {
    "colab": {
     "base_uri": "https://localhost:8080/",
     "height": 296
    },
    "id": "XBiAbqmUsurX",
    "outputId": "79c78cdc-543f-4863-c316-8fbd88c4b33e",
    "ExecuteTime": {
     "end_time": "2024-05-02T15:53:49.401669Z",
     "start_time": "2024-05-02T15:53:49.379597Z"
    }
   },
   "execution_count": 4,
   "outputs": [
    {
     "data": {
      "text/plain": "  start_date   end_date   salary  duration  student_id  high_perc high_spec   \n0 2020-02-29 2020-06-19      NaN       6.0           0      78.36  Commerce  \\\n1 2020-01-04        NaT  23019.0       8.0           1      67.88   Science   \n2        NaT 2020-10-09  20103.0      12.0           2      69.10  Commerce   \n3 2020-01-01 2020-10-23  25268.0       6.0           3      77.80  Commerce   \n4 2020-01-06 2020-10-31      NaN      11.0           4      53.42  Commerce   \n\n  mba_spec  second_perc gender  degree_perc  placed  experience_years   \n0  Mkt&Fin        80.72      M        66.15    True                 1  \\\n1  Mkt&Fin        68.26      M        67.63    True                 1   \n2   Mkt&HR        81.37      M        72.44    True                 1   \n3  Mkt&Fin        61.69      M        58.21   False                 1   \n4  Mkt&Fin        50.00      M        54.58   False                 1   \n\n   employability_perc  mba_perc  work_experience degree_type  \n0               62.31     73.40            False   Comm&Mgmt  \n1               96.57     63.11             True   Comm&Mgmt  \n2               73.77     67.17            False   Comm&Mgmt  \n3               68.48     61.33            False   Comm&Mgmt  \n4               72.45     58.98            False   Comm&Mgmt  ",
      "text/html": "<div>\n<style scoped>\n    .dataframe tbody tr th:only-of-type {\n        vertical-align: middle;\n    }\n\n    .dataframe tbody tr th {\n        vertical-align: top;\n    }\n\n    .dataframe thead th {\n        text-align: right;\n    }\n</style>\n<table border=\"1\" class=\"dataframe\">\n  <thead>\n    <tr style=\"text-align: right;\">\n      <th></th>\n      <th>start_date</th>\n      <th>end_date</th>\n      <th>salary</th>\n      <th>duration</th>\n      <th>student_id</th>\n      <th>high_perc</th>\n      <th>high_spec</th>\n      <th>mba_spec</th>\n      <th>second_perc</th>\n      <th>gender</th>\n      <th>degree_perc</th>\n      <th>placed</th>\n      <th>experience_years</th>\n      <th>employability_perc</th>\n      <th>mba_perc</th>\n      <th>work_experience</th>\n      <th>degree_type</th>\n    </tr>\n  </thead>\n  <tbody>\n    <tr>\n      <th>0</th>\n      <td>2020-02-29</td>\n      <td>2020-06-19</td>\n      <td>NaN</td>\n      <td>6.0</td>\n      <td>0</td>\n      <td>78.36</td>\n      <td>Commerce</td>\n      <td>Mkt&amp;Fin</td>\n      <td>80.72</td>\n      <td>M</td>\n      <td>66.15</td>\n      <td>True</td>\n      <td>1</td>\n      <td>62.31</td>\n      <td>73.40</td>\n      <td>False</td>\n      <td>Comm&amp;Mgmt</td>\n    </tr>\n    <tr>\n      <th>1</th>\n      <td>2020-01-04</td>\n      <td>NaT</td>\n      <td>23019.0</td>\n      <td>8.0</td>\n      <td>1</td>\n      <td>67.88</td>\n      <td>Science</td>\n      <td>Mkt&amp;Fin</td>\n      <td>68.26</td>\n      <td>M</td>\n      <td>67.63</td>\n      <td>True</td>\n      <td>1</td>\n      <td>96.57</td>\n      <td>63.11</td>\n      <td>True</td>\n      <td>Comm&amp;Mgmt</td>\n    </tr>\n    <tr>\n      <th>2</th>\n      <td>NaT</td>\n      <td>2020-10-09</td>\n      <td>20103.0</td>\n      <td>12.0</td>\n      <td>2</td>\n      <td>69.10</td>\n      <td>Commerce</td>\n      <td>Mkt&amp;HR</td>\n      <td>81.37</td>\n      <td>M</td>\n      <td>72.44</td>\n      <td>True</td>\n      <td>1</td>\n      <td>73.77</td>\n      <td>67.17</td>\n      <td>False</td>\n      <td>Comm&amp;Mgmt</td>\n    </tr>\n    <tr>\n      <th>3</th>\n      <td>2020-01-01</td>\n      <td>2020-10-23</td>\n      <td>25268.0</td>\n      <td>6.0</td>\n      <td>3</td>\n      <td>77.80</td>\n      <td>Commerce</td>\n      <td>Mkt&amp;Fin</td>\n      <td>61.69</td>\n      <td>M</td>\n      <td>58.21</td>\n      <td>False</td>\n      <td>1</td>\n      <td>68.48</td>\n      <td>61.33</td>\n      <td>False</td>\n      <td>Comm&amp;Mgmt</td>\n    </tr>\n    <tr>\n      <th>4</th>\n      <td>2020-01-06</td>\n      <td>2020-10-31</td>\n      <td>NaN</td>\n      <td>11.0</td>\n      <td>4</td>\n      <td>53.42</td>\n      <td>Commerce</td>\n      <td>Mkt&amp;Fin</td>\n      <td>50.00</td>\n      <td>M</td>\n      <td>54.58</td>\n      <td>False</td>\n      <td>1</td>\n      <td>72.45</td>\n      <td>58.98</td>\n      <td>False</td>\n      <td>Comm&amp;Mgmt</td>\n    </tr>\n  </tbody>\n</table>\n</div>"
     },
     "execution_count": 4,
     "metadata": {},
     "output_type": "execute_result"
    }
   ]
  },
  {
   "cell_type": "markdown",
   "source": [
    "The metadata is a dictionary that describes the data types of the different columns. This helps SDMetrics understand which metrics to apply to which columns."
   ],
   "metadata": {
    "id": "MBafcsESs22n"
   }
  },
  {
   "cell_type": "code",
   "source": [
    "import pprint\n",
    "\n",
    "pprint.pprint(metadata)"
   ],
   "metadata": {
    "colab": {
     "base_uri": "https://localhost:8080/"
    },
    "id": "Nxqtv-GXszIU",
    "outputId": "68e2fd0a-a2a6-42cd-b51e-c16807057011",
    "ExecuteTime": {
     "end_time": "2024-05-02T15:53:50.597636Z",
     "start_time": "2024-05-02T15:53:50.565611Z"
    }
   },
   "execution_count": 5,
   "outputs": [
    {
     "name": "stdout",
     "output_type": "stream",
     "text": [
      "{'METADATA_SPEC_VERSION': 'SINGLE_TABLE_V1',\n",
      " 'columns': {'degree_perc': {'computer_representation': 'Float',\n",
      "                             'sdtype': 'numerical'},\n",
      "             'degree_type': {'sdtype': 'categorical'},\n",
      "             'duration': {'computer_representation': 'Int64',\n",
      "                          'sdtype': 'numerical'},\n",
      "             'employability_perc': {'computer_representation': 'Float',\n",
      "                                    'sdtype': 'numerical'},\n",
      "             'end_date': {'datetime_format': '%Y-%m-%d', 'sdtype': 'datetime'},\n",
      "             'experience_years': {'computer_representation': 'Float',\n",
      "                                  'sdtype': 'numerical'},\n",
      "             'gender': {'sdtype': 'categorical'},\n",
      "             'high_perc': {'computer_representation': 'Float',\n",
      "                           'sdtype': 'numerical'},\n",
      "             'high_spec': {'sdtype': 'categorical'},\n",
      "             'mba_perc': {'computer_representation': 'Float',\n",
      "                          'sdtype': 'numerical'},\n",
      "             'mba_spec': {'sdtype': 'categorical'},\n",
      "             'placed': {'sdtype': 'boolean'},\n",
      "             'salary': {'computer_representation': 'Int64',\n",
      "                        'sdtype': 'numerical'},\n",
      "             'second_perc': {'computer_representation': 'Float',\n",
      "                             'sdtype': 'numerical'},\n",
      "             'start_date': {'datetime_format': '%Y-%m-%d',\n",
      "                            'sdtype': 'datetime'},\n",
      "             'student_id': {'regex_format': '\\\\d{30}', 'sdtype': 'id'},\n",
      "             'work_experience': {'sdtype': 'boolean'}},\n",
      " 'primary_key': 'student_id'}\n"
     ]
    }
   ]
  },
  {
   "cell_type": "markdown",
   "source": [
    "# Diagnostic\n",
    "\n",
    "Let's get started by running a diagnostic. This report performs some **basic validity checks** such as:\n",
    "- ensuring that the primary keys are always unique\n",
    "- verifying that the synthetic data is within the correct ranges (or category options)\n",
    "- etc.\n",
    "\n"
   ],
   "metadata": {
    "id": "oRWtwc_otBTT"
   }
  },
  {
   "cell_type": "code",
   "source": [
    "from sdmetrics.reports.single_table import DiagnosticReport\n",
    "\n",
    "diagnostic = DiagnosticReport()\n",
    "diagnostic.generate(real_data, synthetic_data, metadata)"
   ],
   "metadata": {
    "colab": {
     "base_uri": "https://localhost:8080/"
    },
    "id": "0k00xVxQs4BV",
    "outputId": "6721c2e4-bfd3-4d76-c549-707a1a756a2a",
    "ExecuteTime": {
     "end_time": "2024-05-03T21:12:31.178998Z",
     "start_time": "2024-05-03T21:12:31.154170Z"
    }
   },
   "execution_count": 12,
   "outputs": [
    {
     "name": "stdout",
     "output_type": "stream",
     "text": [
      "Generating report ...\n",
      "\n",
      "(1/2) Evaluating Data Validity: |██████████| 17/17 [00:00<00:00, 1587.90it/s]|\n",
      "Data Validity Score: 100.0%\n",
      "\n",
      "(2/2) Evaluating Data Structure: |██████████| 1/1 [00:00<00:00, 761.63it/s]|\n",
      "Data Structure Score: 100.0%\n",
      "\n",
      "Overall Score (Average): 100.0%\n"
     ]
    }
   ]
  },
  {
   "cell_type": "markdown",
   "source": [
    "✅ Here we have <font color=\"green\">**verified that the score is 100%**</font>, meaning that the data is fully valid and has the correct structure."
   ],
   "metadata": {
    "id": "xfCIJXJYtWwJ"
   }
  },
  {
   "cell_type": "markdown",
   "source": [
    "<font color=\"red\">**What if the score weren't 100%?**</font> Use the diagnostic report details to understand why. Supply any property name to get a breakdown of the metrics and the scores. Use this to identify which columns contain invalid data."
   ],
   "metadata": {
    "id": "i6L9yREOtnET"
   }
  },
  {
   "cell_type": "code",
   "source": [
    "validity_details = diagnostic.get_details('Data Validity')\n",
    "validity_details.head()"
   ],
   "metadata": {
    "colab": {
     "base_uri": "https://localhost:8080/",
     "height": 206
    },
    "id": "OhhXlTnltVmR",
    "outputId": "793d19ea-e45e-4710-ee7e-69ed57ead7f4",
    "ExecuteTime": {
     "end_time": "2024-05-03T21:12:35.393676Z",
     "start_time": "2024-05-03T21:12:35.385883Z"
    }
   },
   "execution_count": 13,
   "outputs": [
    {
     "data": {
      "text/plain": "       Column             Metric  Score\n0  start_date  BoundaryAdherence    1.0\n1    end_date  BoundaryAdherence    1.0\n2      salary  BoundaryAdherence    1.0\n3    duration  BoundaryAdherence    1.0\n4  student_id      KeyUniqueness    1.0",
      "text/html": "<div>\n<style scoped>\n    .dataframe tbody tr th:only-of-type {\n        vertical-align: middle;\n    }\n\n    .dataframe tbody tr th {\n        vertical-align: top;\n    }\n\n    .dataframe thead th {\n        text-align: right;\n    }\n</style>\n<table border=\"1\" class=\"dataframe\">\n  <thead>\n    <tr style=\"text-align: right;\">\n      <th></th>\n      <th>Column</th>\n      <th>Metric</th>\n      <th>Score</th>\n    </tr>\n  </thead>\n  <tbody>\n    <tr>\n      <th>0</th>\n      <td>start_date</td>\n      <td>BoundaryAdherence</td>\n      <td>1.0</td>\n    </tr>\n    <tr>\n      <th>1</th>\n      <td>end_date</td>\n      <td>BoundaryAdherence</td>\n      <td>1.0</td>\n    </tr>\n    <tr>\n      <th>2</th>\n      <td>salary</td>\n      <td>BoundaryAdherence</td>\n      <td>1.0</td>\n    </tr>\n    <tr>\n      <th>3</th>\n      <td>duration</td>\n      <td>BoundaryAdherence</td>\n      <td>1.0</td>\n    </tr>\n    <tr>\n      <th>4</th>\n      <td>student_id</td>\n      <td>KeyUniqueness</td>\n      <td>1.0</td>\n    </tr>\n  </tbody>\n</table>\n</div>"
     },
     "execution_count": 13,
     "metadata": {},
     "output_type": "execute_result"
    }
   ]
  },
  {
   "cell_type": "markdown",
   "source": [
    "If the score isn't perfect, we recommend contacting your synthetic data provider with the details of these breakdowns.\n",
    "\n",
    "_If you're using an SDV synthesizer, contact the SDV team by [filing a GitHub issue](https://github.com/sdv-dev/SDV/issues/new/choose)._"
   ],
   "metadata": {
    "id": "skrsFDkWt5UF"
   }
  },
  {
   "cell_type": "markdown",
   "source": [
    "# Quality\n",
    "Now that we've verified the data is valid, we can now compare the real vs. synthetic data in terms of the **quality**. The quality report measures statistical similarity between the real and synthetic data.\n",
    "\n",
    "The quality score may vary between 0% and 100%. Unlike the diagnostic, it's ok if the score is not exactly 100%: Based on the exact AI model, it may not always be possible -- or even necessary -- to get a perfect quality score."
   ],
   "metadata": {
    "id": "7FdNz-xWuT0N"
   }
  },
  {
   "cell_type": "code",
   "source": [
    "from sdmetrics.reports.single_table import QualityReport\n",
    "\n",
    "quality_report = QualityReport()\n",
    "quality_report.generate(real_data, synthetic_data, metadata)"
   ],
   "metadata": {
    "colab": {
     "base_uri": "https://localhost:8080/"
    },
    "id": "ghlKl7hFtwNg",
    "outputId": "75660f48-92d4-4999-83f8-60b0c01633f0",
    "ExecuteTime": {
     "end_time": "2024-05-03T21:12:37.876852Z",
     "start_time": "2024-05-03T21:12:37.366093Z"
    }
   },
   "execution_count": 14,
   "outputs": [
    {
     "name": "stdout",
     "output_type": "stream",
     "text": [
      "Generating report ...\n",
      "\n",
      "(1/2) Evaluating Column Shapes: |██████████| 17/17 [00:00<00:00, 2272.10it/s]|\n",
      "Column Shapes Score: 85.11%\n",
      "\n",
      "(2/2) Evaluating Column Pair Trends: |██████▋   | 91/136 [00:00<00:00, 311.49it/s]|"
     ]
    },
    {
     "name": "stderr",
     "output_type": "stream",
     "text": [
      "/Users/minhkau/Documents/TUDelft/Year 3/RP/Code/tabular-gpt/.venv10/lib/python3.10/site-packages/scipy/stats/_stats_py.py:4424: ConstantInputWarning:\n",
      "\n",
      "An input array is constant; the correlation coefficient is not defined.\n",
      "\n"
     ]
    },
    {
     "name": "stdout",
     "output_type": "stream",
     "text": [
      "(2/2) Evaluating Column Pair Trends: |██████████| 136/136 [00:00<00:00, 273.82it/s]|\n",
      "Column Pair Trends Score: 82.5%\n",
      "\n",
      "Overall Score (Average): 83.8%\n"
     ]
    }
   ]
  },
  {
   "cell_type": "markdown",
   "source": [
    "This report indicates that the real and the synthetic data have 83% basic, statistical similarity to each other."
   ],
   "metadata": {
    "id": "NrgodHYUjVDr"
   }
  },
  {
   "cell_type": "markdown",
   "source": [
    "## Which statistics are used?\n",
    "\n",
    "The quality quality measures 2 properties to form the overall score:\n",
    "\n",
    "1. `Column Shapes`, or the _marginal distributions_ of the columns\n",
    "2. `Column Pair Trends`, or the _correlations_ between the columns\n",
    "\n",
    "More information is available [in the API docs](https://docs.sdv.dev/sdmetrics/reports/quality-report/whats-included)\n",
    "\n",
    "We can look at the detailed breakdowns of each of these scores to identify areas for improvement."
   ],
   "metadata": {
    "id": "LcVey8McjaXw"
   }
  },
  {
   "cell_type": "markdown",
   "source": [
    "## Column Shapes (Marginal Distributions)\n",
    "\n",
    "From the details, we can se that the marginal distribution scores vary for the different columns."
   ],
   "metadata": {
    "id": "6l1c7CYkjvqn"
   }
  },
  {
   "cell_type": "code",
   "source": [
    "quality_report.get_details('Column Shapes')"
   ],
   "metadata": {
    "colab": {
     "base_uri": "https://localhost:8080/",
     "height": 551
    },
    "id": "i586e0atU_9y",
    "outputId": "0e2e6c3e-3adc-495f-a770-52318eba4bf1",
    "ExecuteTime": {
     "end_time": "2024-05-02T15:54:04.954300Z",
     "start_time": "2024-05-02T15:54:04.948533Z"
    }
   },
   "execution_count": 9,
   "outputs": [
    {
     "data": {
      "text/plain": "                Column        Metric     Score\n0           start_date  KSComplement  0.662162\n1             end_date  KSComplement  0.849291\n2               salary  KSComplement  0.853140\n3             duration  KSComplement  0.439189\n4            high_perc  KSComplement  0.897674\n5            high_spec  TVComplement  0.986047\n6             mba_spec  TVComplement  0.986047\n7          second_perc  KSComplement  0.897674\n8               gender  TVComplement  1.000000\n9          degree_perc  KSComplement  0.916279\n10              placed  TVComplement  0.990698\n11    experience_years  KSComplement  0.344186\n12  employability_perc  KSComplement  0.934884\n13            mba_perc  KSComplement  0.925581\n14     work_experience  TVComplement  0.995349\n15         degree_type  TVComplement  0.939535",
      "text/html": "<div>\n<style scoped>\n    .dataframe tbody tr th:only-of-type {\n        vertical-align: middle;\n    }\n\n    .dataframe tbody tr th {\n        vertical-align: top;\n    }\n\n    .dataframe thead th {\n        text-align: right;\n    }\n</style>\n<table border=\"1\" class=\"dataframe\">\n  <thead>\n    <tr style=\"text-align: right;\">\n      <th></th>\n      <th>Column</th>\n      <th>Metric</th>\n      <th>Score</th>\n    </tr>\n  </thead>\n  <tbody>\n    <tr>\n      <th>0</th>\n      <td>start_date</td>\n      <td>KSComplement</td>\n      <td>0.662162</td>\n    </tr>\n    <tr>\n      <th>1</th>\n      <td>end_date</td>\n      <td>KSComplement</td>\n      <td>0.849291</td>\n    </tr>\n    <tr>\n      <th>2</th>\n      <td>salary</td>\n      <td>KSComplement</td>\n      <td>0.853140</td>\n    </tr>\n    <tr>\n      <th>3</th>\n      <td>duration</td>\n      <td>KSComplement</td>\n      <td>0.439189</td>\n    </tr>\n    <tr>\n      <th>4</th>\n      <td>high_perc</td>\n      <td>KSComplement</td>\n      <td>0.897674</td>\n    </tr>\n    <tr>\n      <th>5</th>\n      <td>high_spec</td>\n      <td>TVComplement</td>\n      <td>0.986047</td>\n    </tr>\n    <tr>\n      <th>6</th>\n      <td>mba_spec</td>\n      <td>TVComplement</td>\n      <td>0.986047</td>\n    </tr>\n    <tr>\n      <th>7</th>\n      <td>second_perc</td>\n      <td>KSComplement</td>\n      <td>0.897674</td>\n    </tr>\n    <tr>\n      <th>8</th>\n      <td>gender</td>\n      <td>TVComplement</td>\n      <td>1.000000</td>\n    </tr>\n    <tr>\n      <th>9</th>\n      <td>degree_perc</td>\n      <td>KSComplement</td>\n      <td>0.916279</td>\n    </tr>\n    <tr>\n      <th>10</th>\n      <td>placed</td>\n      <td>TVComplement</td>\n      <td>0.990698</td>\n    </tr>\n    <tr>\n      <th>11</th>\n      <td>experience_years</td>\n      <td>KSComplement</td>\n      <td>0.344186</td>\n    </tr>\n    <tr>\n      <th>12</th>\n      <td>employability_perc</td>\n      <td>KSComplement</td>\n      <td>0.934884</td>\n    </tr>\n    <tr>\n      <th>13</th>\n      <td>mba_perc</td>\n      <td>KSComplement</td>\n      <td>0.925581</td>\n    </tr>\n    <tr>\n      <th>14</th>\n      <td>work_experience</td>\n      <td>TVComplement</td>\n      <td>0.995349</td>\n    </tr>\n    <tr>\n      <th>15</th>\n      <td>degree_type</td>\n      <td>TVComplement</td>\n      <td>0.939535</td>\n    </tr>\n  </tbody>\n</table>\n</div>"
     },
     "execution_count": 9,
     "metadata": {},
     "output_type": "execute_result"
    }
   ]
  },
  {
   "cell_type": "markdown",
   "source": [
    "Some columns, such as `degree`, have great scores of over 0.90. We can visualize the data in order to see this."
   ],
   "metadata": {
    "id": "HfHbw9VEkFf3"
   }
  },
  {
   "cell_type": "code",
   "source": [
    "from sdmetrics.visualization import get_column_plot\n",
    "\n",
    "fig = get_column_plot(\n",
    "    real_data=real_data,\n",
    "    synthetic_data=synthetic_data,\n",
    "    column_name='degree_perc',\n",
    ")\n",
    "\n",
    "fig.show()"
   ],
   "metadata": {
    "colab": {
     "base_uri": "https://localhost:8080/",
     "height": 542
    },
    "id": "envA-cA4j1YO",
    "outputId": "5716d3fe-79df-43e3-8c8f-0d3c83cd4969",
    "ExecuteTime": {
     "end_time": "2024-05-03T21:12:43.318390Z",
     "start_time": "2024-05-03T21:12:43.300148Z"
    }
   },
   "execution_count": 15,
   "outputs": [
    {
     "data": {
      "text/html": "<iframe\n    scrolling=\"no\"\n    width=\"100%\"\n    height=\"545px\"\n    src=\"iframe_figures/figure_15.html\"\n    frameborder=\"0\"\n    allowfullscreen\n></iframe>\n"
     },
     "metadata": {},
     "output_type": "display_data"
    }
   ]
  },
  {
   "cell_type": "markdown",
   "source": [
    "Other columns such as `duration` have lower scores. We can see that the synthetic data here doesn't quite cover the full range of the real data."
   ],
   "metadata": {
    "id": "DEV-RqDrkb1E"
   }
  },
  {
   "cell_type": "code",
   "source": [
    "from sdmetrics.visualization import get_column_plot\n",
    "\n",
    "fig = get_column_plot(\n",
    "    real_data=real_data,\n",
    "    synthetic_data=synthetic_data,\n",
    "    column_name='duration',\n",
    ")\n",
    "\n",
    "fig.show()"
   ],
   "metadata": {
    "colab": {
     "base_uri": "https://localhost:8080/",
     "height": 542
    },
    "id": "jMGFvfvukXa8",
    "outputId": "0a204bfd-190a-4e9e-b1a2-53cb6816056f",
    "ExecuteTime": {
     "end_time": "2024-05-03T21:12:46.939457Z",
     "start_time": "2024-05-03T21:12:46.834631Z"
    }
   },
   "execution_count": 16,
   "outputs": [
    {
     "data": {
      "text/html": "<iframe\n    scrolling=\"no\"\n    width=\"100%\"\n    height=\"545px\"\n    src=\"iframe_figures/figure_16.html\"\n    frameborder=\"0\"\n    allowfullscreen\n></iframe>\n"
     },
     "metadata": {},
     "output_type": "display_data"
    }
   ]
  },
  {
   "cell_type": "markdown",
   "source": [
    "## Column Pair Trends (Correlations)\n",
    "\n",
    "We can also compare the correlations between the real and synthetic data. The report can visualize the scores as a heatmap for easy inspection."
   ],
   "metadata": {
    "id": "zhd1He77kuk3"
   }
  },
  {
   "cell_type": "markdown",
   "source": [],
   "metadata": {
    "collapsed": false
   }
  },
  {
   "cell_type": "code",
   "source": [
    "quality_report.get_visualization('Column Pair Trends')"
   ],
   "metadata": {
    "colab": {
     "base_uri": "https://localhost:8080/",
     "height": 917
    },
    "id": "Yu7sB5H_kgUU",
    "outputId": "c5babc40-0999-4370-9b51-9a8568baf948",
    "ExecuteTime": {
     "end_time": "2024-05-03T21:12:55.415800Z",
     "start_time": "2024-05-03T21:12:55.358900Z"
    }
   },
   "execution_count": 17,
   "outputs": [
    {
     "data": {
      "text/html": "<iframe\n    scrolling=\"no\"\n    width=\"920px\"\n    height=\"920\"\n    src=\"iframe_figures/figure_17.html\"\n    frameborder=\"0\"\n    allowfullscreen\n></iframe>\n"
     },
     "metadata": {},
     "output_type": "display_data"
    }
   ]
  },
  {
   "cell_type": "markdown",
   "source": [
    "Visualize the data in 2D for even more insight. For example, we can verify that both the real and synthetic data show a slight positive correlation between the `'degree_perc'` and `'high_perc'` columns."
   ],
   "metadata": {
    "id": "q9xoqcYUlfs8"
   }
  },
  {
   "cell_type": "code",
   "source": [
    "from sdmetrics.visualization import get_column_pair_plot\n",
    "\n",
    "fig = get_column_pair_plot(\n",
    "    real_data=real_data,\n",
    "    synthetic_data=synthetic_data,\n",
    "    column_names=['degree_perc', 'high_perc'],\n",
    ")\n",
    "\n",
    "fig.show()"
   ],
   "metadata": {
    "id": "ltQ6Cpsik2kb",
    "colab": {
     "base_uri": "https://localhost:8080/",
     "height": 542
    },
    "outputId": "2b5b6ab7-143a-40b4-a6da-a00ad1992a29",
    "ExecuteTime": {
     "end_time": "2024-05-03T21:13:19.051035Z",
     "start_time": "2024-05-03T21:13:18.823442Z"
    }
   },
   "execution_count": 18,
   "outputs": [
    {
     "data": {
      "text/html": "<iframe\n    scrolling=\"no\"\n    width=\"100%\"\n    height=\"545px\"\n    src=\"iframe_figures/figure_18.html\"\n    frameborder=\"0\"\n    allowfullscreen\n></iframe>\n"
     },
     "metadata": {},
     "output_type": "display_data"
    }
   ]
  },
  {
   "cell_type": "markdown",
   "source": [
    "# Applying Individual Metrics\n",
    "\n",
    "If you'd like to explore your data further, you can manually apply any of the [available metrics](https://docs.sdv.dev/sdmetrics/metrics/metrics-glossary) in the library.\n",
    "\n",
    "For example, let's apply [MissingValueSimilarity](https://docs.sdv.dev/sdmetrics/metrics/metrics-glossary/missingvaluesimilarity) metric, which can be useful for applications like **software testing**. It tells us whether the synthetic data has the same amount of missing values as the real data."
   ],
   "metadata": {
    "id": "pmuDmuMQl-I3"
   }
  },
  {
   "cell_type": "code",
   "source": [
    "from sdmetrics.single_column import MissingValueSimilarity\n",
    "\n",
    "MissingValueSimilarity.compute(\n",
    "    real_data=real_data['salary'],\n",
    "    synthetic_data=synthetic_data['salary']\n",
    ")"
   ],
   "metadata": {
    "colab": {
     "base_uri": "https://localhost:8080/"
    },
    "id": "sJ1GP6YslvyY",
    "outputId": "5f2cc491-bfb6-480c-e624-e3448146fc30"
   },
   "execution_count": null,
   "outputs": [
    {
     "output_type": "execute_result",
     "data": {
      "text/plain": [
       "0.9441860465116279"
      ]
     },
     "metadata": {},
     "execution_count": 14
    }
   ]
  },
  {
   "cell_type": "markdown",
   "source": [
    "We can also check for **data privacy**. The [NewRowSynthesis](https://docs.sdv.dev/sdmetrics/metrics/metrics-glossary/newrowsynthesis) metric tells us whether the synthetic data contains any exact copies of the real data -- or whether the rows are new."
   ],
   "metadata": {
    "id": "p2MenONamaQQ"
   }
  },
  {
   "cell_type": "code",
   "source": [
    "from sdmetrics.single_table import NewRowSynthesis\n",
    "\n",
    "NewRowSynthesis.compute(\n",
    "    real_data=real_data,\n",
    "    synthetic_data=synthetic_data,\n",
    "    metadata=metadata\n",
    ")"
   ],
   "metadata": {
    "colab": {
     "base_uri": "https://localhost:8080/"
    },
    "id": "APX1uInTmddi",
    "outputId": "c030049d-83c8-4403-d67c-5580d94d0cb7"
   },
   "execution_count": null,
   "outputs": [
    {
     "output_type": "execute_result",
     "data": {
      "text/plain": [
       "1.0"
      ]
     },
     "metadata": {},
     "execution_count": 15
    }
   ]
  },
  {
   "cell_type": "markdown",
   "source": [
    "It looks like 100% of the rows in the synthetic data are new -- meaning that there are **no exact copies** of the real data!"
   ],
   "metadata": {
    "id": "p1XzgBcGmhtm"
   }
  },
  {
   "cell_type": "markdown",
   "source": [
    "# More Resources\n",
    "\n",
    "The SDMetrics library is part of the SDV Project, built & maintained by DataCebo.\n",
    "\n",
    "For more information about the library visit the [documentation website](https://docs.sdv.dev/sdmetrics/).\n",
    "\n",
    "To connect with the community, [join our Slack channel](https://bit.ly/sdv-slack-invite)! We have hundreds of users discussing their synthetic data needs."
   ],
   "metadata": {
    "id": "kD5CyfUBmjdu"
   }
  },
  {
   "cell_type": "markdown",
   "source": [
    "![datacebo-banner-linkedin-03-22-21.png](data:image/png;base64,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)"
   ],
   "metadata": {
    "id": "_usmS9a6mlyX"
   }
  }
 ]
}
