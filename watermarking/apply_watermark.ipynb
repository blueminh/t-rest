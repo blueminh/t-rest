{
 "cells": [
  {
   "cell_type": "code",
   "outputs": [
    {
     "name": "stderr",
     "output_type": "stream",
     "text": [
      "/Users/minhkau/Documents/TUDelft/Year 3/RP/Code/tabular-gpt/.venv/lib/python3.10/site-packages/huggingface_hub/file_download.py:1132: FutureWarning: `resume_download` is deprecated and will be removed in version 1.0.0. Downloads always resume when possible. If you want to force a new download, use `force_download=True`.\n",
      "  warnings.warn(\n"
     ]
    },
    {
     "name": "stdout",
     "output_type": "stream",
     "text": [
      "[15396]\n",
      "[12674]\n"
     ]
    }
   ],
   "source": [
    "import transformers\n",
    "\n",
    "tokenizer = transformers.AutoTokenizer.from_pretrained('distilgpt2', add_prefix_space=True)\n",
    "tokenizer.pad_token_id = tokenizer.eos_token_id\n",
    "tokenizer.pad_token = tokenizer.eos_token\n",
    "\n",
    "print(tokenizer.encode(\"class\"))"
   ],
   "metadata": {
    "collapsed": false,
    "ExecuteTime": {
     "end_time": "2024-05-11T14:48:13.210805Z",
     "start_time": "2024-05-11T14:48:12.203501Z"
    }
   },
   "id": "d7734804a04e504c",
   "execution_count": 1
  },
  {
   "cell_type": "code",
   "outputs": [],
   "source": [],
   "metadata": {
    "collapsed": false
   },
   "id": "3fbbe3bdb50c7b3d"
  },
  {
   "cell_type": "code",
   "outputs": [
    {
     "name": "stdout",
     "output_type": "stream",
     "text": [
      "[19841, 1120, 42]\n",
      "['Ġ<=', '50', 'K']\n",
      "[' <=', '50', 'K']\n"
     ]
    }
   ],
   "source": [
    "print(tokenizer.encode(\" <=50K\"))\n",
    "print(tokenizer.tokenize(\" <=50K\"))\n",
    "print([tokenizer.decode(t) for t in tokenizer.encode(\" <=50K\")])"
   ],
   "metadata": {
    "collapsed": false,
    "ExecuteTime": {
     "end_time": "2024-05-11T15:13:01.865259Z",
     "start_time": "2024-05-11T15:13:01.858673Z"
    }
   },
   "id": "568179411cc944e8",
   "execution_count": 22
  },
  {
   "cell_type": "code",
   "outputs": [],
   "source": [
    "import pandas as pd\n",
    "real_data = pd.read_csv(\"/Users/minhkau/Documents/TUDelft/Year 3/RP/Code/tabular-gpt/samples/adult.csv\")\n",
    "\n",
    "real_data = real_data.sample(n=400, random_state=42)\n",
    "\n",
    "real_data.to_csv(\"adult_400.csv\", index=False)"
   ],
   "metadata": {
    "collapsed": false,
    "ExecuteTime": {
     "end_time": "2024-05-12T19:54:39.041040Z",
     "start_time": "2024-05-12T19:54:38.981007Z"
    }
   },
   "id": "219e781b4e6f2227",
   "execution_count": 28
  },
  {
   "cell_type": "code",
   "outputs": [],
   "source": [],
   "metadata": {
    "collapsed": false
   },
   "id": "529cfb5260dd85c5"
  },
  {
   "cell_type": "code",
   "outputs": [],
   "source": [
    "syn_data = pd.read_csv(\"/Users/minhkau/Documents/TUDelft/Year 3/RP/Code/tabular-gpt/samples/great_watermaked_adult_samples_1000_fixed_seed.csv\")\n",
    "\n",
    "syn_data = syn_data.sample(n=180, random_state=42)\n",
    "\n",
    "syn_data.to_csv(\"watermarked_100.csv\", index=False)"
   ],
   "metadata": {
    "collapsed": false,
    "ExecuteTime": {
     "end_time": "2024-05-12T19:54:40.027689Z",
     "start_time": "2024-05-12T19:54:40.018582Z"
    }
   },
   "id": "1ac2ebf054b1a6a8",
   "execution_count": 29
  },
  {
   "cell_type": "code",
   "outputs": [],
   "source": [
    "from sklearn import datasets\n",
    "data = datasets.fetch_california_housing(as_frame=True).frame\n",
    "data.to_csv(\"california.csv\", index=False)"
   ],
   "metadata": {
    "collapsed": false,
    "ExecuteTime": {
     "end_time": "2024-05-13T14:11:55.138731Z",
     "start_time": "2024-05-13T14:11:55.034644Z"
    }
   },
   "id": "ad7a1a0cc286ab11",
   "execution_count": 42
  },
  {
   "cell_type": "code",
   "outputs": [
    {
     "data": {
      "text/plain": "3.959797974644666"
     },
     "execution_count": 1,
     "metadata": {},
     "output_type": "execute_result"
    }
   ],
   "source": [
    "from math import sqrt\n",
    "def _compute_z_score(observed_count, T, gamma):\n",
    "    # count refers to number of green tokens, T is total number of tokens\n",
    "    expected_count = gamma * T\n",
    "    # expected_count = gamma\n",
    "    numer = observed_count - expected_count\n",
    "    denom = sqrt(expected_count * (1 - gamma))\n",
    "    z = numer / denom\n",
    "    return z\n",
    "\n",
    "_compute_z_score(128, 200, 0.5)"
   ],
   "metadata": {
    "collapsed": false,
    "ExecuteTime": {
     "end_time": "2024-05-15T15:29:41.566355Z",
     "start_time": "2024-05-15T15:29:41.560408Z"
    }
   },
   "id": "9edd811bc9f8ee51",
   "execution_count": 1
  }
 ],
 "metadata": {
  "kernelspec": {
   "display_name": "Python 3",
   "language": "python",
   "name": "python3"
  },
  "language_info": {
   "codemirror_mode": {
    "name": "ipython",
    "version": 2
   },
   "file_extension": ".py",
   "mimetype": "text/x-python",
   "name": "python",
   "nbconvert_exporter": "python",
   "pygments_lexer": "ipython2",
   "version": "2.7.6"
  }
 },
 "nbformat": 4,
 "nbformat_minor": 5
}
