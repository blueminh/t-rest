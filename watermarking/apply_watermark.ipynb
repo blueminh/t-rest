{
 "cells": [
  {
   "cell_type": "code",
   "outputs": [
    {
     "name": "stderr",
     "output_type": "stream",
     "text": [
      "/Users/minhkau/Documents/TUDelft/Year 3/RP/Code/tabular-gpt/.venv/lib/python3.10/site-packages/huggingface_hub/file_download.py:1132: FutureWarning: `resume_download` is deprecated and will be removed in version 1.0.0. Downloads always resume when possible. If you want to force a new download, use `force_download=True`.\n",
      "  warnings.warn(\n"
     ]
    },
    {
     "name": "stdout",
     "output_type": "stream",
     "text": [
      "[15396]\n",
      "[12674]\n"
     ]
    }
   ],
   "source": [
    "import transformers\n",
    "\n",
    "tokenizer = transformers.AutoTokenizer.from_pretrained('distilgpt2', add_prefix_space=True)\n",
    "tokenizer.pad_token_id = tokenizer.eos_token_id\n",
    "tokenizer.pad_token = tokenizer.eos_token\n",
    "\n",
    "print(tokenizer.encode(\"class\"))"
   ],
   "metadata": {
    "collapsed": false,
    "ExecuteTime": {
     "end_time": "2024-05-11T14:48:13.210805Z",
     "start_time": "2024-05-11T14:48:12.203501Z"
    }
   },
   "id": "d7734804a04e504c",
   "execution_count": 1
  },
  {
   "cell_type": "code",
   "outputs": [
    {
     "name": "stdout",
     "output_type": "stream",
     "text": [
      "[19841, 1120, 42]\n",
      "['Ġ<=', '50', 'K']\n",
      "[' <=', '50', 'K']\n"
     ]
    }
   ],
   "source": [
    "print(tokenizer.encode(\" <=50K\"))\n",
    "print(tokenizer.tokenize(\" <=50K\"))\n",
    "print([tokenizer.decode(t) for t in tokenizer.encode(\" <=50K\")])"
   ],
   "metadata": {
    "collapsed": false,
    "ExecuteTime": {
     "end_time": "2024-05-11T15:13:01.865259Z",
     "start_time": "2024-05-11T15:13:01.858673Z"
    }
   },
   "id": "568179411cc944e8",
   "execution_count": 22
  }
 ],
 "metadata": {
  "kernelspec": {
   "display_name": "Python 3",
   "language": "python",
   "name": "python3"
  },
  "language_info": {
   "codemirror_mode": {
    "name": "ipython",
    "version": 2
   },
   "file_extension": ".py",
   "mimetype": "text/x-python",
   "name": "python",
   "nbconvert_exporter": "python",
   "pygments_lexer": "ipython2",
   "version": "2.7.6"
  }
 },
 "nbformat": 4,
 "nbformat_minor": 5
}
