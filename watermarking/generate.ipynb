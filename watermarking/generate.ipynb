{
 "cells": [
  {
   "cell_type": "code",
   "execution_count": 9,
   "id": "initial_id",
   "metadata": {
    "collapsed": true,
    "ExecuteTime": {
     "end_time": "2024-05-06T13:58:07.975335Z",
     "start_time": "2024-05-06T13:58:07.941262Z"
    }
   },
   "outputs": [
    {
     "ename": "ModuleNotFoundError",
     "evalue": "No module named 'extended_watermark_processor'",
     "output_type": "error",
     "traceback": [
      "\u001B[0;31m---------------------------------------------------------------------------\u001B[0m",
      "\u001B[0;31mModuleNotFoundError\u001B[0m                       Traceback (most recent call last)",
      "Cell \u001B[0;32mIn[9], line 3\u001B[0m\n\u001B[1;32m      1\u001B[0m \u001B[38;5;28;01mfrom\u001B[39;00m \u001B[38;5;21;01mbe_great\u001B[39;00m \u001B[38;5;28;01mimport\u001B[39;00m GReaT\n\u001B[1;32m      2\u001B[0m \u001B[38;5;28;01mimport\u001B[39;00m \u001B[38;5;21;01mtransformers\u001B[39;00m\n\u001B[0;32m----> 3\u001B[0m \u001B[38;5;28;01mfrom\u001B[39;00m \u001B[38;5;21;01mextended_watermark_processor\u001B[39;00m \u001B[38;5;28;01mimport\u001B[39;00m WatermarkLogitsProcessor\n\u001B[1;32m      5\u001B[0m model_path \u001B[38;5;241m=\u001B[39m \u001B[38;5;124m\"\u001B[39m\u001B[38;5;124m/Users/minhkau/Documents/TUDelft/Year 3/RP/Code/tabular-gpt/be_greater/models/adult_v_baseline\u001B[39m\u001B[38;5;124m\"\u001B[39m\n\u001B[1;32m      7\u001B[0m \u001B[38;5;66;03m# loading and setting up\u001B[39;00m\n",
      "\u001B[0;31mModuleNotFoundError\u001B[0m: No module named 'extended_watermark_processor'"
     ]
    }
   ],
   "source": [
    "from be_great import GReaT\n",
    "import transformers\n",
    "from extended_watermark_processor import WatermarkLogitsProcessor\n",
    "\n",
    "model_path = \"/Users/minhkau/Documents/TUDelft/Year 3/RP/Code/tabular-gpt/be_greater/models/adult_v_baseline\"\n",
    "\n",
    "# loading and setting up\n",
    "great = GReaT.load_from_dir(model_path)\n",
    "great.tokenizer = transformers.AutoTokenizer.from_pretrained('distilgpt2', add_prefix_space=True)\n",
    "great.tokenizer.pad_token_id = great.tokenizer.eos_token_id\n",
    "great.tokenizer.pad_token = great.tokenizer.eos_token\n",
    "\n",
    "# set up watermark\n",
    "watermark_processor = WatermarkLogitsProcessor(vocab=list(great.tokenizer.get_vocab().values()),\n",
    "                                               gamma=0.25,\n",
    "                                               delta=2.0,\n",
    "                                               seeding_scheme=\"selfhash\")\n",
    "\n",
    "# generation\n",
    "samples = great.sample(10, k=200, max_length=400, device=\"cpu\", logits_processor=watermark_processor)\n",
    "samples.to_csv(\"test_sample.csv\", index=False)"
   ]
  },
  {
   "cell_type": "code",
   "outputs": [
    {
     "name": "stderr",
     "output_type": "stream",
     "text": [
      "/Users/minhkau/Documents/TUDelft/Year 3/RP/Code/tabular-gpt/.venv/lib/python3.10/site-packages/huggingface_hub/file_download.py:1132: FutureWarning: `resume_download` is deprecated and will be removed in version 1.0.0. Downloads always resume when possible. If you want to force a new download, use `force_download=True`.\n",
      "  warnings.warn(\n"
     ]
    }
   ],
   "source": [
    "import pandas as pd\n",
    "\n",
    "tokenizer = transformers.AutoTokenizer.from_pretrained('distilgpt2', add_prefix_space=True)\n",
    "len(tokenizer.get_vocab().values())\n",
    "# tokenizer.get_vocab().keys()\n",
    "\n",
    "vocab_df = pd.DataFrame(list(tokenizer.get_vocab().items()), columns=['Token', 'ID'])\n",
    "\n",
    "# Define the path to save the CSV file\n",
    "csv_file_path = 'tokenizer_vocab.csv'\n",
    "\n",
    "# Save the DataFrame to a CSV file\n",
    "vocab_df.to_csv(csv_file_path, index=False, encoding='utf-8')\n"
   ],
   "metadata": {
    "collapsed": false,
    "ExecuteTime": {
     "end_time": "2024-05-06T13:50:31.527908Z",
     "start_time": "2024-05-06T13:50:31.198731Z"
    }
   },
   "id": "d7734804a04e504c",
   "execution_count": 8
  }
 ],
 "metadata": {
  "kernelspec": {
   "display_name": "Python 3",
   "language": "python",
   "name": "python3"
  },
  "language_info": {
   "codemirror_mode": {
    "name": "ipython",
    "version": 2
   },
   "file_extension": ".py",
   "mimetype": "text/x-python",
   "name": "python",
   "nbconvert_exporter": "python",
   "pygments_lexer": "ipython2",
   "version": "2.7.6"
  }
 },
 "nbformat": 4,
 "nbformat_minor": 5
}
