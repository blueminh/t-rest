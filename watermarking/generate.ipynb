{
 "cells": [
  {
   "cell_type": "code",
   "outputs": [
    {
     "name": "stderr",
     "output_type": "stream",
     "text": [
      "/Users/minhkau/Documents/TUDelft/Year 3/RP/Code/tabular-gpt/.venv/lib/python3.10/site-packages/huggingface_hub/file_download.py:1132: FutureWarning: `resume_download` is deprecated and will be removed in version 1.0.0. Downloads always resume when possible. If you want to force a new download, use `force_download=True`.\n",
      "  warnings.warn(\n"
     ]
    }
   ],
   "source": [
    "import pandas as pd\n",
    "import transformers\n",
    "\n",
    "tokenizer = transformers.AutoTokenizer.from_pretrained('distilgpt2', add_prefix_space=True)\n",
    "len(tokenizer.get_vocab().values())\n",
    "# tokenizer.get_vocab().keys()\n",
    "\n",
    "vocab_df = pd.DataFrame(list(tokenizer.get_vocab().items()), columns=['Token', 'ID'])\n",
    "\n",
    "# Define the path to save the CSV file\n",
    "csv_file_path = 'tokenizer_vocab.csv'\n",
    "\n",
    "# Save the DataFrame to a CSV file\n",
    "vocab_df.to_csv(csv_file_path, index=False, encoding='utf-8')\n"
   ],
   "metadata": {
    "collapsed": false,
    "ExecuteTime": {
     "end_time": "2024-05-06T13:50:31.527908Z",
     "start_time": "2024-05-06T13:50:31.198731Z"
    }
   },
   "id": "d7734804a04e504c",
   "execution_count": 8
  }
 ],
 "metadata": {
  "kernelspec": {
   "display_name": "Python 3",
   "language": "python",
   "name": "python3"
  },
  "language_info": {
   "codemirror_mode": {
    "name": "ipython",
    "version": 2
   },
   "file_extension": ".py",
   "mimetype": "text/x-python",
   "name": "python",
   "nbconvert_exporter": "python",
   "pygments_lexer": "ipython2",
   "version": "2.7.6"
  }
 },
 "nbformat": 4,
 "nbformat_minor": 5
}
